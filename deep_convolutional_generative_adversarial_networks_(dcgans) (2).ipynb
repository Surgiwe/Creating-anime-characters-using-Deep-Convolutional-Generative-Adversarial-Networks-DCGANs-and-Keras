{
 "cells": [
  {
   "cell_type": "markdown",
   "metadata": {
    "id": "92i59GKvy4lj"
   },
   "source": [
    "<p style=\"text-align:center\">\n",
    "    <a href=\"https://skills.network/?utm_medium=Exinfluencer&utm_source=Exinfluencer&utm_content=000026UJ&utm_term=10006555&utm_id=NA-SkillsNetwork-Channel-SkillsNetworkGuidedProjectsIBMGPXX0XCEEN72-2022-01-01\" target=\"_blank\">\n",
    "    <img src=\"https://cf-courses-data.s3.us.cloud-object-storage.appdomain.cloud/assets/logos/SN_web_lightmode.png\" width=\"200\" alt=\"Skills Network Logo\"  />\n",
    "    </a>\n",
    "</p>\n"
   ]
  },
  {
   "cell_type": "markdown",
   "metadata": {
    "id": "sQ-0JeMHy4ll"
   },
   "source": [
    "# **Creating anime characters using Deep Convolutional Generative Adversarial Networks (DCGANs) and Keras**\n"
   ]
  },
  {
   "cell_type": "markdown",
   "metadata": {
    "id": "fDVwaNDny4ll"
   },
   "source": [
    "Imagine if you are in a video game company, your games is famous for its unique characters for every player. With the growth of the player amount, it comes to be a nearly impossible mission to hand plot the characters for millions of players. Your boss plans to keep the unique character creating function in the game, and you need a method to handle the task. <br>\n",
    "\n",
    "__Generative adversarial networks (GANs) might help!__<br>\n",
    "It is a class of machine learning frameworks, first published in June 2014 <a href=https://cf-courses-data.s3.us.cloud-object-storage.appdomain.cloud/IBM-GPXX0XCEEN/papers/1406.2661.pdf >[1]</a>. <br>\n",
    "GANs could generate new data following the statistic features of the data in the training set. GANs is widely used to generate new and realistic photograph that is authentic to human observers. <br>\n",
    "\n",
    "Convolutional networks (CNNs) has seen huge adoption in computer vision applications. Applying the CNNs to GANs models could help us in building a photo generating model. The combined method is called Deep Convolutional Generative Adversarial Networks (DCGANs). <br>\n",
    "\n",
    "In this lab, we will first focus on simulated data to better understand GANs. <br>\n",
    "Further, we will use the case of massive anime avatar production to introduce how to use DCGANs.<br>\n",
    "__You will create anime characters like the ones below in this project.__\n",
    "\n",
    "<img src=\"https://cf-courses-data.s3.us.cloud-object-storage.appdomain.cloud/IBM-GPXX0XCEEN/images/face_cartton.png\" width=\"700\" alt=\"Skills Network Logo\">\n"
   ]
  },
  {
   "cell_type": "markdown",
   "metadata": {
    "id": "RAOQMlmwy4lm"
   },
   "source": [
    "----\n",
    "<center><img src=\"https://cf-courses-data.s3.us.cloud-object-storage.appdomain.cloud/IBM-GPXX0XCEEN/images/unknown4.jpeg\" width=\"50%\"></center>\n"
   ]
  },
  {
   "cell_type": "markdown",
   "metadata": {
    "id": "JW6oG4Bcy4lm"
   },
   "source": [
    "## __Table of Contents__\n",
    "\n",
    "<ol>\n",
    "    <li><a href=\"#Objectives\">Objectives</a></li>\n",
    "    <li>\n",
    "        <a href=\"#Setup\">Setup</a>\n",
    "        <ol>\n",
    "            <li><a href=\"#Installing-Required-Libraries\">Installing Required Libraries</a></li>\n",
    "            <li><a href=\"#Importing-Required-Libraries\">Importing Required Libraries</a></li>\n",
    "            <li><a href=\"#Defining-Helper-Functions\">Defining Helper Functions</a></li>\n",
    "        </ol>\n",
    "    </li>\n",
    "    <li>\n",
    "        <a href=\"#Basic:-Generative-Adversarial-Networks-(GANs)\">Basic: Generative Adversarial Networks (GANs)</a>\n",
    "        <ol>\n",
    "            <li><a href=\"#Introduction\">Introduction</a></li>\n",
    "            <li><a href=\"#Toy-Data\">Toy Data</a></li>\n",
    "            <li><a href=\"#The-Generator\">The Generator</a></li>\n",
    "            <li><a href=\"#The-Loss-Function-GANs-(Optional)\">The Loss Function GANs (Optional)</a></li>\n",
    "            <li><a href=\"#Training-GANs\">Training GANs</a></li>\n",
    "        </ol>\n",
    "    </li>\n",
    "    <li>\n",
    "        <a href=\"#Deep-Convolutional-Generative-Adversarial-Networks-(DCGANs)\">Deep Convolutional Generative Adversarial Networks (DCGANs)</a></li>\n",
    "        <ol>\n",
    "            <li><a href=\"#Case-background\">Case background</a></li>\n",
    "            <li><a href=\"#Loading-the-Dataset\">Loading the Dataset</a></li>\n",
    "            <li><a href=\"#Creating-Data-Generator\">Creating Data Generator</a></li>\n",
    "            <li><a href=\"#Generator-and-Discriminator-(for-DCGANs)\">Generator and Discriminator  (for DCGANs)</a></li>\n",
    "            <li><a href=\"#Defining-Loss-Functions\">Defining Loss Functions</a></li>\n",
    "            <li><a href=\"#Defining-Optimizers\">Defining Optimizers</a></li>\n",
    "            <li><a href=\"#Create-Train-Step-Function\">Create Train Step Function</a></li>\n",
    "            <li><a href=\"#Training-DCGANs\">Training DCGANs</a></li>\n",
    "        </ol>\n",
    "    <li>\n",
    "    <a href=\"#Explore-Latent-Variables\">Explore Latent Variables</a>\n",
    "        <ol>\n",
    "            <li><a href=\"#Exercise-1\">Exercise 1</a></li>\n",
    "            <li><a href=\"#Exercise-2\">Exercise 2</a></li>\n",
    "            <li><a href=\"#Exercise-3\">Exercise 3</a></li>\n",
    "        </ol>\n",
    "    </li>\n",
    "</ol>\n"
   ]
  },
  {
   "cell_type": "markdown",
   "metadata": {
    "id": "LcREjQ9Oy4lm"
   },
   "source": [
    "## Objectives\n",
    "\n",
    "After completing this lab, you will be able to:\n",
    "\n",
    "- __Understand__ the original formulation of GANs, and their two separately trained networks: Generator and Discriminator\n",
    "- __Implement__ GANs on simulated and real datasets\n",
    "- __Apply__ DCGANs to a dataset\n",
    "- __Understand__ how to train DCGANs\n",
    "- __Generate__ an image using a DCGAN\n",
    "- __Understand__ how changing the input of the latent space of DCGANs changes the generated image\n"
   ]
  },
  {
   "cell_type": "markdown",
   "metadata": {
    "id": "QOgfiiPhy4lm"
   },
   "source": [
    "----\n"
   ]
  },
  {
   "cell_type": "markdown",
   "metadata": {
    "id": "y3Idpqqwy4ln"
   },
   "source": [
    "## Setup\n"
   ]
  },
  {
   "cell_type": "markdown",
   "metadata": {
    "id": "3kiLuMLKy4ln"
   },
   "source": [
    "For this lab, we will be using the following libraries:\n",
    "\n",
    "*   [`pandas`](https://pandas.pydata.org/?utm_medium=Exinfluencer&utm_source=Exinfluencer&utm_content=000026UJ&utm_term=10006555&utm_id=NA-SkillsNetwork-Channel-SkillsNetworkCoursesIBMML0187ENSkillsNetwork31430127-2021-01-01) for managing the data.\n",
    "*   [`numpy`](https://numpy.org/?utm_medium=Exinfluencer&utm_source=Exinfluencer&utm_content=000026UJ&utm_term=10006555&utm_id=NA-SkillsNetwork-Channel-SkillsNetworkCoursesIBMML0187ENSkillsNetwork31430127-2021-01-01) for mathematical operations.\n",
    "*   [`sklearn`](https://scikit-learn.org/stable/?utm_medium=Exinfluencer&utm_source=Exinfluencer&utm_content=000026UJ&utm_term=10006555&utm_id=NA-SkillsNetwork-Channel-SkillsNetworkCoursesIBMML0187ENSkillsNetwork31430127-2021-01-01) for machine learning and machine-learning-pipeline related functions.\n",
    "*   [`seaborn`](https://seaborn.pydata.org/?utm_medium=Exinfluencer&utm_source=Exinfluencer&utm_content=000026UJ&utm_term=10006555&utm_id=NA-SkillsNetwork-Channel-SkillsNetworkCoursesIBMML0187ENSkillsNetwork31430127-2021-01-01) for visualizing the data.\n",
    "*   [`matplotlib`](https://matplotlib.org/?utm_medium=Exinfluencer&utm_source=Exinfluencer&utm_content=000026UJ&utm_term=10006555&utm_id=NA-SkillsNetwork-Channel-SkillsNetworkCoursesIBMML0187ENSkillsNetwork31430127-2021-01-01) for additional plotting tools.\n",
    "*   [`keras`](https://keras.io/?utm_medium=Exinfluencer&utm_source=Exinfluencer&utm_content=000026UJ&utm_term=10006555&utm_id=NA-SkillsNetwork-Channel-SkillsNetworkCoursesIBMML0187ENSkillsNetwork31430127-2021-01-01) for loading datasets.\n",
    "*   [`tensorflow`](https://www.tensorflow.org/?utm_medium=Exinfluencer&utm_source=Exinfluencer&utm_content=000026UJ&utm_term=10006555&utm_id=NA-SkillsNetwork-Channel-SkillsNetworkCoursesIBMML0187ENSkillsNetwork31430127-2021-01-01) for machine learning and neural network related functions.\n",
    "\n",
    "\n"
   ]
  },
  {
   "cell_type": "markdown",
   "metadata": {
    "id": "IYgpvXFJy4ln"
   },
   "source": [
    "### Installing Required Libraries\n",
    "\n",
    "The following required libraries are pre-installed in the Skills Network Labs environment. However, if you run this notebook commands in a different Jupyter environment (e.g. Watson Studio or Ananconda), you will need to install these libraries by removing the `#` sign before `!mamba` in the code cell below.\n"
   ]
  },
  {
   "cell_type": "code",
   "execution_count": null,
   "metadata": {
    "colab": {
     "base_uri": "https://localhost:8080/"
    },
    "id": "47fbokN3y4ln",
    "outputId": "62d751f0-f7ec-4526-e390-5e198102b659"
   },
   "outputs": [],
   "source": [
    "# All Libraries required for this lab are listed below. The libraries pre-installed on Skills Network Labs are commented.\n",
    "!pip install pandas==1.3.4 numpy==1.21.4 seaborn==0.9.0 matplotlib==3.5.0 scikit-learn==0.20.1 skillsnetwork\n",
    "# Note: If your environment doesn't support \"!mamba install\", use \"!pip install\""
   ]
  },
  {
   "cell_type": "markdown",
   "metadata": {
    "id": "3InfIKzFX6Kg"
   },
   "source": [
    "disini saya akan mendownload library yang diperlukan untuk menjalankan DCGANs. Library yg diinstall ada pandas(1.3.4), numpy(1.21.4), seaborn(0.9.0), matplotlib(3.5.0) scikit-learn(0.20.1) dan skillsnetwork.\n",
    "Disini terjadi error dikarenakan versi scikkit-learn nya versi lama."
   ]
  },
  {
   "cell_type": "markdown",
   "metadata": {
    "id": "2F9G08Rjy4lo"
   },
   "source": [
    "The following required libraries are __not__ pre-installed in the Skills Network Labs environment. __You will need to run the following cell__ to install them:\n",
    "\n",
    "_You need ~30 seconds to install._\n"
   ]
  },
  {
   "cell_type": "code",
   "execution_count": null,
   "metadata": {
    "colab": {
     "base_uri": "https://localhost:8080/"
    },
    "id": "tOcczBoKy4lo",
    "outputId": "f2813bb3-e4b2-4db1-8b07-48004bf8c9d0"
   },
   "outputs": [],
   "source": [
    "!pip install tqdm skillsnetwork"
   ]
  },
  {
   "cell_type": "markdown",
   "metadata": {
    "id": "KqVRlqClZ676"
   },
   "source": [
    "code ini untuk mendownload tqdm dan juga skillnetwork"
   ]
  },
  {
   "cell_type": "markdown",
   "metadata": {
    "id": "ZlpBTCYNy4lp"
   },
   "source": [
    "Run the following upgrade and then **RESTART YOUR KERNEL**. Make sure the version of tensorflow imported below is **no less than 2.9.0**.\n"
   ]
  },
  {
   "cell_type": "code",
   "execution_count": null,
   "metadata": {
    "colab": {
     "base_uri": "https://localhost:8080/"
    },
    "id": "5FzTeJ7fy4lp",
    "outputId": "f105f10e-3f9e-4943-d15d-aec1f193718c"
   },
   "outputs": [],
   "source": [
    "!pip3 install  --upgrade tensorflow"
   ]
  },
  {
   "cell_type": "markdown",
   "metadata": {
    "id": "PXWJlEgGaoYF"
   },
   "source": [
    "pada code ini kita akan mengupgrade tensorflow ke versi terbaru yaitu 2.18"
   ]
  },
  {
   "cell_type": "markdown",
   "metadata": {
    "id": "zhRV-H21y4lp"
   },
   "source": [
    "### Importing Required Libraries\n",
    "\n",
    "_We recommend you import all required libraries in one place (here):_\n",
    "\n",
    "_You need ~1 minute to import._\n"
   ]
  },
  {
   "cell_type": "code",
   "execution_count": null,
   "metadata": {
    "colab": {
     "base_uri": "https://localhost:8080/"
    },
    "id": "E77ZfPFoy4lp",
    "outputId": "74dea2e2-99c7-4a9e-c055-6dc7aeacfcfb"
   },
   "outputs": [],
   "source": [
    "import warnings\n",
    "warnings.simplefilter('ignore')\n",
    "import numpy as np\n",
    "import os\n",
    "import matplotlib.pyplot as plt\n",
    "import tensorflow as tf\n",
    "print(f\"tensorflow version: {tf.__version__}\")\n",
    "from tensorflow.keras import layers\n",
    "from tensorflow.keras import models\n",
    "from tensorflow.keras.models import Sequential\n",
    "from tensorflow.keras.models import Sequential\n",
    "from tensorflow.keras.layers import Input,Conv2DTranspose,BatchNormalization,ReLU,Conv2D,LeakyReLU\n",
    "import time\n",
    "\n",
    "import keras\n",
    "\n",
    "from IPython import display\n",
    "import skillsnetwork\n",
    "print(f\"skillsnetwork version: {skillsnetwork.__version__}\")\n",
    "\n",
    "import matplotlib.pyplot as plt\n",
    "%matplotlib inline\n",
    "\n",
    "import os\n",
    "from os import listdir\n",
    "from pathlib import Path\n",
    "import imghdr\n",
    "\n",
    "from tqdm import tqdm"
   ]
  },
  {
   "cell_type": "markdown",
   "metadata": {
    "id": "J6c5qurHbIyJ"
   },
   "source": [
    "code ini akan mengimport semua library yang sudah diinstall"
   ]
  },
  {
   "cell_type": "markdown",
   "metadata": {
    "id": "WcIQQeURy4lp"
   },
   "source": [
    "### Defining Helper Functions\n"
   ]
  },
  {
   "cell_type": "code",
   "execution_count": null,
   "metadata": {
    "id": "x2PsJwc2y4lp"
   },
   "outputs": [],
   "source": [
    "# This function will allow us to easily plot data taking in x values, y values, and a title\n",
    "def plot_distribution(real_data,generated_data,discriminator=None,density=True):\n",
    "\n",
    "    plt.hist(real_data.numpy(), 100, density=density, facecolor='g', alpha=0.75, label='real data')\n",
    "    plt.hist(generated_data.numpy(), 100, density=density, facecolor='r', alpha=0.75,label='generated data q(z) ')\n",
    "\n",
    "    if discriminator:\n",
    "        max_=np.max([int(real_data.numpy().max()),int(generated_data.numpy().max())])\n",
    "        min_=np.min([int(real_data.numpy().min()),int(generated_data.numpy().min())])\n",
    "        x=np.linspace(min_, max_, 1000).reshape(-1,1)\n",
    "        plt.plot(x,tf.math.sigmoid(discriminator(x,training=False).numpy()),label='discriminator',color='k')\n",
    "        plt.plot(x,0.5*np.ones(x.shape),label='0.5',color='b')\n",
    "        plt.xlabel('x')\n",
    "\n",
    "    plt.legend()\n",
    "    plt.show()\n",
    "\n",
    "def plot_array(X,title=\"\"):\n",
    "\n",
    "    plt.rcParams['figure.figsize'] = (20,20)\n",
    "\n",
    "    for i,x in enumerate(X[0:5]):\n",
    "        x=x.numpy()\n",
    "        max_=x.max()\n",
    "        min_=x.min()\n",
    "        xnew=np.uint(255*(x-min_)/(max_-min_))\n",
    "        plt.subplot(1,5,i+1)\n",
    "        plt.imshow(xnew)\n",
    "        plt.axis(\"off\")\n",
    "\n",
    "    plt.show()"
   ]
  },
  {
   "cell_type": "markdown",
   "metadata": {
    "id": "9x9y0qsgy4lp"
   },
   "source": [
    "----\n"
   ]
  },
  {
   "cell_type": "markdown",
   "metadata": {
    "id": "vb2oxl_bb3Dm"
   },
   "source": [
    "code ini akan memudahkan kita untuk memvisualisasi atau ploting data"
   ]
  },
  {
   "cell_type": "markdown",
   "metadata": {
    "id": "9i-GQI1ty4lp"
   },
   "source": [
    "## Basic: Generative Adversarial Networks (GANs)\n"
   ]
  },
  {
   "cell_type": "markdown",
   "metadata": {
    "id": "USIn8YCzy4lp"
   },
   "source": [
    "### Introduction\n"
   ]
  },
  {
   "cell_type": "markdown",
   "metadata": {
    "id": "4ELOPn0Hy4lq"
   },
   "source": [
    "__Generative Adversarial Networks (GANs)__ are generative models that convert random samples of one distribution into another distribution. They have several applications, like the following:\n",
    "\n",
    "*  Generate Examples for Image Datasets\n",
    "*  Generate Photographs of Human Faces\n",
    "*  Generate Realistic Photographs\n",
    "*  Generate Cartoon Characters\n",
    "*  Image-to-Image Translation\n",
    "*  Text-to-Image Translation\n",
    "*  Face Frontal View Generation\n",
    "*  Generate New Human Poses\n",
    "*  Face Aging\n",
    "*  Photo Blending\n",
    "*  Super Resolution\n",
    "*  Photo Inpainting\n",
    "*  Clothing Translation\n",
    "*  Video Prediction\n",
    "\n",
    "In this GANs section of the Lab, we will use a toy example to help understand the __basic theoretical principles__ behind GANs. The original form of GANs consisted of a __discriminator__ and a __generator__; let's use the analogy of a currency forger and the police.\n",
    "\n",
    "The Generator is the currency forger, and the output is the counterfeit, for example, a 100-dollar bill. The discriminator is analogous to the police taking the counterfeit and trying to determine if it's real by comparing it to a real $100 bill. In real life, if the counterfeit is easy to detect, the forger will adapt; conversely, the police will also improve; GANs emulate this game of cat and mouse.  \n",
    "\n",
    "<center><img src=\"https://cf-courses-data.s3.us.cloud-object-storage.appdomain.cloud/IBM-GPXX0XCEEN/images/General%20diagram.png\" alt=\"generator image\" width=\"700px\"></center>\n",
    "\n",
    "What makes GANs interesting is that the __discriminator and generator continuously improve__ each other by a well-formulated cost function that backpropagates the errors. GANs are a family of algorithms that use _learning by comparison_. In the lab, we will review the original formulation and use a simulated dataset. We will also point you to some more advanced methods and issues you will encounter with the real datasets for the next lab.\n"
   ]
  },
  {
   "cell_type": "markdown",
   "metadata": {
    "id": "4mNBz48ly4lq"
   },
   "source": [
    "### Toy Data\n",
    "\n",
    "Consider the following data, $\\mathbf{x}$, that is normally distributed $\\mathbf{x} \\sim \\mathcal{N}(\\mathbf{x}|10,1) $ with a mean of 10 and a standard deviation of 1. Now we would like to randomly sample data from this distribution.\n"
   ]
  },
  {
   "cell_type": "code",
   "execution_count": null,
   "metadata": {
    "colab": {
     "base_uri": "https://localhost:8080/"
    },
    "id": "v4zr5GGGy4lq",
    "outputId": "18947214-9976-4b4d-a129-caaedaad013e"
   },
   "outputs": [],
   "source": [
    "mean = [10]\n",
    "cov = [[1]]\n",
    "X = tf.random.normal((5000,1),mean=10,stddev=1.0)\n",
    "\n",
    "print(\"mean:\",np.mean(X))\n",
    "print(\"standard deviation:\",np.std(X))"
   ]
  },
  {
   "cell_type": "markdown",
   "metadata": {
    "id": "eoYG9UDuy4lq"
   },
   "source": [
    "We also have the data sample, z, which is also normally distributed $\\mathbf{z} \\sim \\mathcal{N}(\\mathbf{z}|0,2) $, with mean of 0 and a standard deviation of 2:\n",
    "\n"
   ]
  },
  {
   "cell_type": "code",
   "execution_count": null,
   "metadata": {
    "id": "uq7oKFL3y4lq"
   },
   "outputs": [],
   "source": [
    "Z = tf.random.normal((5000,1),mean=0,stddev=2)"
   ]
  },
  {
   "cell_type": "code",
   "execution_count": null,
   "metadata": {
    "colab": {
     "base_uri": "https://localhost:8080/"
    },
    "id": "UUKFXJuKy4lq",
    "outputId": "86f6ef0e-8d88-4243-fc82-08f0b3d8a136"
   },
   "outputs": [],
   "source": [
    "print(\"mean:\",np.mean(Z))\n",
    "print(\"standard deviation:\",np.std(Z))"
   ]
  },
  {
   "cell_type": "markdown",
   "metadata": {
    "id": "MGbjRml4y4lq"
   },
   "source": [
    "\n",
    "\n",
    "\n",
    "\n",
    "\n",
    "\n",
    "\n",
    "Let's compare the two distributions:\n"
   ]
  },
  {
   "cell_type": "code",
   "execution_count": null,
   "metadata": {
    "colab": {
     "base_uri": "https://localhost:8080/",
     "height": 430
    },
    "id": "B2qnZzk8y4lq",
    "outputId": "0807bb7e-079c-4ebc-cf37-bf5186bcaa99"
   },
   "outputs": [],
   "source": [
    "plot_distribution(X,Z,discriminator=None,density=True)"
   ]
  },
  {
   "cell_type": "markdown",
   "metadata": {
    "id": "EwPAslOPy4lq"
   },
   "source": [
    "Let's create our first generative model by adding 10 to every sample of $z$. We will call the result $\\hat{\\mathbf{x}}$  as it's an approximation of $\\mathbf{x}$. It is not too difficult to show that $\\hat{\\mathbf{x}} \\sim \\mathcal{N}(\\mathbf{x}|10,1)$.Xhat=Z+10\n"
   ]
  },
  {
   "cell_type": "code",
   "execution_count": null,
   "metadata": {
    "id": "uAxUmY-2y4lr"
   },
   "outputs": [],
   "source": [
    "Xhat=Z+10"
   ]
  },
  {
   "cell_type": "markdown",
   "metadata": {
    "id": "kqg0togby4lr"
   },
   "source": [
    "We see that the mean and standard deviation are almost identical\n"
   ]
  },
  {
   "cell_type": "code",
   "execution_count": null,
   "metadata": {
    "colab": {
     "base_uri": "https://localhost:8080/"
    },
    "id": "4Iw9nQ8by4lr",
    "outputId": "574f9d09-f7c2-40c4-f983-c429f222b5b1"
   },
   "outputs": [],
   "source": [
    "print(\"mean:\",np.mean(Xhat))\n",
    "print(\"standard deviation:\",np.std(Xhat))"
   ]
  },
  {
   "cell_type": "markdown",
   "metadata": {
    "id": "BUivliwiy4lr"
   },
   "source": [
    "Similarly for the histograms\n"
   ]
  },
  {
   "cell_type": "code",
   "execution_count": null,
   "metadata": {
    "colab": {
     "base_uri": "https://localhost:8080/",
     "height": 430
    },
    "id": "e5AGVDyuy4lr",
    "outputId": "43b50f55-b65a-40ee-fcf5-0674ed574137"
   },
   "outputs": [],
   "source": [
    "plot_distribution(X,Xhat,discriminator=None,density=True)"
   ]
  },
  {
   "cell_type": "markdown",
   "metadata": {
    "id": "PsqSwCt8y4lr"
   },
   "source": [
    "In the case above, since we just add 10 to the latent variable $z$, we transform $z$ using a deterministic function. We can call this an implicit generative model.\n"
   ]
  },
  {
   "cell_type": "markdown",
   "metadata": {
    "id": "5tlGqRrFy4lr"
   },
   "source": [
    "### The Generator\n"
   ]
  },
  {
   "cell_type": "markdown",
   "metadata": {
    "id": "2ZHj0w4By4lv"
   },
   "source": [
    "<img src=\"https://cf-courses-data.s3.us.cloud-object-storage.appdomain.cloud/IBM-GPXX0XCEEN/images/Unknown.png\" width=\"300px\">\n",
    "\n",
    "There are two networks involved in a GAN, the Generator and the Discriminator. Let's understand the Generator network first.\n",
    "\n",
    "The Generator is a neural network denoted by $G$; the idea is that a neural network can approximate any function (by the [Universal Approximation Theorem](https://en.wikipedia.org/wiki/Universal_approximation_theorem?utm_medium=Exinfluencer&utm_source=Exinfluencer&utm_content=000026UJ&utm_term=10006555&utm_id=NA-SkillsNetwork-Channel-SkillsNetworkGuidedProjectsIBMGPXX0XCEEN72-2022-01-01)), so you should be able to generate data samples from any type of distribution.\n",
    "\n",
    "Our goal is to convert the samples, $\\mathbf{z}$, to one that approximates $\\hat{\\mathbf{x}}$,  i.e $\\hat{\\mathbf{x}}=G(\\mathbf{z})$. Let's build a simple Generator $G(\\mathbf{z})=\\mathbf{W}^{T}\\mathbf{z}+\\mathbf{b} $ using Keras.\n",
    "\n",
    "The following is a function that outputs a generator using Kera's Sequential model object.\n"
   ]
  },
  {
   "cell_type": "code",
   "execution_count": null,
   "metadata": {
    "id": "qjkWqmKEy4lv"
   },
   "outputs": [],
   "source": [
    "def make_generator_model():\n",
    "    generator = tf.keras.Sequential()\n",
    "    generator.add(layers.Dense(1))\n",
    "    return generator"
   ]
  },
  {
   "cell_type": "markdown",
   "metadata": {
    "id": "ZHfmtv7vy4lv"
   },
   "source": [
    "We can use the Generator to convert $\\mathbf{z}$ and make a prediction $\\hat{\\mathbf{x}}$, and display the histogram of the distributions of $\\hat{\\mathbf{x}}$ and $\\mathbf{x}$. As the model is not trained, the trained distributions are quite different:\n"
   ]
  },
  {
   "cell_type": "code",
   "execution_count": null,
   "metadata": {
    "colab": {
     "base_uri": "https://localhost:8080/",
     "height": 430
    },
    "id": "AL_JGMBhy4lv",
    "outputId": "05d685dc-e954-42e3-e899-41edd35c5a1d"
   },
   "outputs": [],
   "source": [
    "generator=make_generator_model()\n",
    "\n",
    "Xhat = generator(Z, training=False)\n",
    "plot_distribution(real_data=X,generated_data=Xhat)"
   ]
  },
  {
   "cell_type": "markdown",
   "metadata": {
    "id": "vM0XXQ6ny4lw"
   },
   "source": [
    "We will discuss the use of the parameter ```training=False``` later on.\n"
   ]
  },
  {
   "cell_type": "markdown",
   "metadata": {
    "id": "aygaaCaby4lw"
   },
   "source": [
    "### The Discriminator\n"
   ]
  },
  {
   "cell_type": "markdown",
   "metadata": {
    "id": "YWv6173xy4lw"
   },
   "source": [
    "<img src=\"https://cf-courses-data.s3.us.cloud-object-storage.appdomain.cloud/IBM-GPXX0XCEEN/images/Unknown1.png\" width=\"300px\">\n",
    "\n",
    "The discriminator $D(\\mathbf{x})$ is a neural network that learns to distinguish between actual and generated samples. The simplest Discriminator is a simple logistic regression function. Let's create a discriminator in Keras with one Dense layer; we leave the logistic function out as it will be incorporated in the cost function, which is the convention in Keras.\n"
   ]
  },
  {
   "cell_type": "code",
   "execution_count": null,
   "metadata": {
    "id": "zyg6qKwty4lw"
   },
   "outputs": [],
   "source": [
    "def make_discriminator_model():\n",
    "    discriminator=tf.keras.Sequential()\n",
    "    discriminator.add(layers.Dense(1))\n",
    "    return discriminator\n",
    "\n",
    "discriminator=make_discriminator_model()"
   ]
  },
  {
   "cell_type": "markdown",
   "metadata": {
    "id": "cDPz0ZVny4lw"
   },
   "source": [
    "The discriminator and generator are randomly initialized, but we can plot the output of each and compare it to the true data distribution, with the generated data in red and the real data in green, and the logistic function as a function of the x axis. We also include the threshold. If the output of the logistic function is less than 0.5, the sample is classified as generated data; conversely, if the output is greater than 0.5, the sample will be classified as data that came from the real distribution.\n"
   ]
  },
  {
   "cell_type": "code",
   "execution_count": null,
   "metadata": {
    "colab": {
     "base_uri": "https://localhost:8080/",
     "height": 449
    },
    "id": "TMS_oFT8y4lw",
    "outputId": "f2b66374-51b7-4bd0-ecdf-3ae4f2ebc117"
   },
   "outputs": [],
   "source": [
    "plot_distribution(real_data=X,generated_data=Xhat,discriminator=discriminator)"
   ]
  },
  {
   "cell_type": "markdown",
   "metadata": {
    "id": "X34eAy9jy4lw"
   },
   "source": [
    "Applying the sigmoid function to the discriminator output, we get the probabilites that the samples belong to the real distribution. We can count the number of true samples that the discriminator correctly classifies.\n",
    "\n",
    "For the real data, the discriminator successfully assigns a probability greater than 0.5 for all 5000 samples:\n"
   ]
  },
  {
   "cell_type": "code",
   "execution_count": null,
   "metadata": {
    "colab": {
     "base_uri": "https://localhost:8080/"
    },
    "id": "-M8vnHYpy4lw",
    "outputId": "8febcbb3-417a-4049-f403-10357dd3b4b6"
   },
   "outputs": [],
   "source": [
    "py_x=tf.math.sigmoid(discriminator(X,training=False))\n",
    "np.sum(py_x>0.5)"
   ]
  },
  {
   "cell_type": "markdown",
   "metadata": {
    "id": "6BGHn50qy4lx"
   },
   "source": [
    "For the generated data, only a part of the 5000 samples are classified as having more than 50% chance of coming from the real distribution.\n"
   ]
  },
  {
   "cell_type": "code",
   "execution_count": null,
   "metadata": {
    "colab": {
     "base_uri": "https://localhost:8080/"
    },
    "id": "B4giyYufy4lx",
    "outputId": "a83d6092-ae56-459f-8981-7cd650ed621a"
   },
   "outputs": [],
   "source": [
    "py_x=discriminator(Xhat)\n",
    "np.sum(py_x>0.5)"
   ]
  },
  {
   "cell_type": "markdown",
   "metadata": {
    "id": "ZmxdowGHy4lx"
   },
   "source": [
    "We can also use the following to find the average value of the sigmoid function for all the samples.  \n"
   ]
  },
  {
   "cell_type": "code",
   "execution_count": null,
   "metadata": {
    "id": "WHNMA5yty4lx"
   },
   "outputs": [],
   "source": [
    "def get_accuracy(X,Xhat):\n",
    "    total=0\n",
    "    py_x=tf.math.sigmoid(discriminator(X,training=False))\n",
    "    total=np.mean(py_x)\n",
    "    py_x=tf.math.sigmoid(discriminator(Xhat,training=False))\n",
    "    total+=np.mean(py_x)\n",
    "    return total/2"
   ]
  },
  {
   "cell_type": "code",
   "execution_count": null,
   "metadata": {
    "colab": {
     "base_uri": "https://localhost:8080/"
    },
    "id": "UHsLtDTVy4lx",
    "outputId": "df4b4333-a190-474d-d20f-661f3824d0f8"
   },
   "outputs": [],
   "source": [
    "get_accuracy(X,Xhat)"
   ]
  },
  {
   "cell_type": "markdown",
   "metadata": {
    "id": "brahErCny4lx"
   },
   "source": [
    "In many cases, we can instead study the difference in the distribution; in this case, the discriminator is called a <a href='https://cf-courses-data.s3.us.cloud-object-storage.appdomain.cloud/IBM-GPXX0XCEEN/papers/2107.06700.pdf'>Critic</a>, a real-valued function.\n"
   ]
  },
  {
   "cell_type": "markdown",
   "metadata": {
    "id": "jdjt8-Aqy4lx"
   },
   "source": [
    "### The Loss Function GANs (Optional)\n",
    "GANs convert an unsupervised learning problem to a supervised one. Instead of formulating the problem like a two-player minimax game with a value function like in <a href=https://cf-courses-data.s3.us.cloud-object-storage.appdomain.cloud/IBM-GPXX0XCEEN/papers/1406.2661.pdf >[1]</a>, we can treat the problem of maximizing the familiar log-likelihood of the logistic function analogous to minimizing the cross-entropy loss, then incorporate the generator and discriminator.\n",
    "\n",
    "___Discriminator___\n",
    "\n",
    "In order to train the GANS, we start off with standard maximization of the likelihood for the discriminator for the standard dataset $\\mathcal{D}=\\{{(x_1, y_1), ..., (x_N, y_N)}\\}$:\n",
    "\n",
    "$$V(D)=\\sum_{n=1}^N \\left( y_n \\ln(D(\\mathbf{x}_n))+(1-y_n) \\ln(1-D(\\mathbf{x}_n))\\right)$$\n",
    "\n",
    "Where $y=1$ for samples from the true distribution and $y=0$ for samples from the generator. The goal is to maximize this term with respect to $D$:\n",
    "\n",
    "$$max_{D}(V(D))$$\n"
   ]
  },
  {
   "cell_type": "markdown",
   "metadata": {
    "id": "573gzCFgy4lx"
   },
   "source": [
    "To also incorporate the generated samples, we augment the right side of the equation with the generated $k$th sample $\\hat{\\mathbf{x}}_k$. As they are not part of the dataset $k \\notin \\mathcal{D} $, we have to include a second summation where $y=0$. Finally, combining the cases of $y=1$ and $y=0$, we get:\n",
    "\n",
    "$$V(D)=\\sum_{ n\t\\in \\mathcal{D}}  \\ln(D(\\mathbf{x}_n))+\\sum_{k \t\\notin \\mathcal{D}} \\ln(1-D(\\hat{\\mathbf{x}}_k) ) $$\n"
   ]
  },
  {
   "cell_type": "markdown",
   "metadata": {
    "id": "474UHWJey4ly"
   },
   "source": [
    "___Generator___\n",
    "\n",
    "For the generator we simply replace $\\hat{\\mathbf{x}}_k$ with the $G(\\mathbf{z}_k)$ .\n",
    "\n",
    "\n",
    "$$V(G,D)=\\sum_{n\t\\in \\mathcal{D}} \\ln(D(\\mathbf{x}_n))+\\sum_{k \t\\notin \\mathcal{D}} \\ln(1-D(G(\\mathbf{z}_k))) $$\n",
    "\n",
    "As this is a density estimation problem, it is common to replace the summation with the expected value like in <a href=https://cf-courses-data.s3.us.cloud-object-storage.appdomain.cloud/IBM-GPXX0XCEEN/papers/1406.2661.pdf >[1]</a>. We replace the summations with an expectation where $p(\\mathbf{x})$ is the true distribution and $p(\\mathbf{z})$ is the distribution of $\\mathbf{z}$.\n",
    "\n",
    "\n",
    "$$V(D,G)=\\mathbb{E}_{x\\sim p(\\mathbf{x})} \\ln(D(\\mathbf{x})) + \\mathbb{E}_{\\mathbf{z} \\sim p(\\mathbf{z})} \\ln(1-D(G(\\mathbf{z}) )) $$\n",
    "\n",
    "As we are trying to trick the discriminator, we would like to find a $G$ that minimize the above expression, such as:\n",
    "\n",
    "$$min_{G} max_{D} V(D,G)$$\n"
   ]
  },
  {
   "cell_type": "markdown",
   "metadata": {
    "id": "lbYOhRX8y4ly"
   },
   "source": [
    "### Training GANs\n",
    "\n",
    "GANs are quite difficult to train, even for a simple example. Let's start off with training the generator in practice.\n",
    "\n",
    "<img src=\"https://cf-courses-data.s3.us.cloud-object-storage.appdomain.cloud/IBM-GPXX0XCEEN/images/unknown3.jpeg\" width=\"500px\">\n",
    "\n",
    "___Training Generator___\n",
    "\n",
    "$log(1 − D(G(\\mathbf{z})))$ is difficult to work with as $D(G(\\mathbf{z}))$ is near one or zero for the first few iterations. This is because the generator is not yet properly trained, and the discriminator can easily distinguish between the generated and actual samples. Therefore we maximize $log(D(G(\\mathbf{z}_k)) )$.\n",
    "\n",
    "Although the output of the generator passes through the discriminator, we do not update the generator in the optimization step, hence we set the parameter ```training=False``` in the actual training steps.\n",
    "\n",
    "\n",
    "Instead of maximizing the term, we can take the negative and minimize it. The resultant expression can be calculated in Keras using the cross-entropy loss where all the target values are set to one:\n",
    "\n",
    "$$\\sum_{k \t\\notin \\mathcal{D}} log(1 - D(G(\\mathbf{z}_k)) )$$\n"
   ]
  },
  {
   "cell_type": "code",
   "execution_count": null,
   "metadata": {
    "id": "edAT43LCy4ly"
   },
   "outputs": [],
   "source": [
    "# This method returns a helper function to compute crossentropy loss\n",
    "cross_entropy = tf.keras.losses.BinaryCrossentropy(from_logits=True)\n",
    "def generator_loss(Xhat):\n",
    "    return cross_entropy(tf.ones_like(Xhat), Xhat)"
   ]
  },
  {
   "cell_type": "markdown",
   "metadata": {
    "id": "kyFUbQaZy4ly"
   },
   "source": [
    "___Training Discriminator___\n",
    "\n",
    "We can also use the cross-entropy to train the discriminator; we simply multiply $V(G,D)$ by a negative number, set $y=0$ for the generated values and $y=1$ for the real values. We do not update the generator parameters.\n",
    "\n",
    "$$V(G)=\\sum_{n\t\\in \\mathcal{D}} (\\ln(D(\\mathbf{x}_n)))+\\sum_{k \t\\notin \\mathcal{D}} \\ln(1-D(G(\\mathbf{z}_k) )) $$\n"
   ]
  },
  {
   "cell_type": "markdown",
   "metadata": {
    "id": "LIGXjB7wy4ly"
   },
   "source": [
    "The first term is the real loss and the second is the fake loss in Keras.\n"
   ]
  },
  {
   "cell_type": "code",
   "execution_count": null,
   "metadata": {
    "id": "QApNg0vJy4ly"
   },
   "outputs": [],
   "source": [
    "\n",
    "def discriminator_loss(X, Xhat):\n",
    "    real_loss = cross_entropy(tf.ones_like(X), X)\n",
    "    fake_loss = cross_entropy(tf.zeros_like(Xhat), Xhat)\n",
    "    total_loss = 0.5*(real_loss + fake_loss)\n",
    "    return total_loss"
   ]
  },
  {
   "cell_type": "markdown",
   "metadata": {
    "id": "ZyAI7MbDy4ly"
   },
   "source": [
    "We create the optimizer for the discriminator and generator:\n"
   ]
  },
  {
   "cell_type": "code",
   "execution_count": null,
   "metadata": {
    "id": "wKOJGs37y4lz"
   },
   "outputs": [],
   "source": [
    "generator_optimizer = tf.keras.optimizers.Adam(5e-1,beta_1=0.5,beta_2=0.8)\n",
    "\n",
    "discriminator_optimizer = tf.keras.optimizers.Adam(5e-1,beta_1=0.5, beta_2=0.8)"
   ]
  },
  {
   "cell_type": "markdown",
   "metadata": {
    "id": "5FJlI7ehy4lz"
   },
   "source": [
    "We now train the model; as the dataset is small, we will use batch gradient descent.\n",
    "\n",
    "For each iteration we will generate $M$ real examples $\\{\\mathbf{x}_{1}, ...,\\mathbf{x}_{M}\\}$, these are from the generating distribution $p(\\mathbf{x})$. This would be our actual dataset if we used real data.  \n",
    "\n",
    "We will then generate a sample batch of $M$ noise samples $\\{\\mathbf{z}_{1}, ...,\\mathbf{z}_{M}\\}$ from noise prior $p(\\mathbf{z})$ and convert the result to a generated image using the generator $\\{\\hat{\\mathbf{x}}_{1}, ...,\\hat{\\mathbf{x}}_{M}\\}$.\n",
    "\n",
    "We determine the output of the discriminator for both the real and generated samples. We calculate the loss and then update the discriminator and generator through their respective stochastic gradients.\n"
   ]
  },
  {
   "cell_type": "markdown",
   "metadata": {
    "id": "G0pTz_spy4lz"
   },
   "source": [
    "The convergence of GAN training is a subject in itself. But let's explore a method that works for this simple dataset. Intuitively, we know that if our generated data is identical to our actual data, the probability of correctly classifying is random. Therefore if the generated and actual data are of equal proportion, $D(\\mathbf{x}_n)=0.5$ and $D(\\hat{\\mathbf{x}}_n)=0.5$.  \n",
    "\n",
    "We only display iterations where the average discriminator output gets closer to 50% for both the generated data and actual data.\n"
   ]
  },
  {
   "cell_type": "code",
   "execution_count": null,
   "metadata": {
    "colab": {
     "base_uri": "https://localhost:8080/",
     "height": 1000
    },
    "id": "NhuqKb09y4lz",
    "outputId": "8cb9ada0-be30-4f2d-d83d-ad4fd85bf4ac"
   },
   "outputs": [],
   "source": [
    "#parameters for training\n",
    "epochs=20\n",
    "BATCH_SIZE=5000\n",
    "noise_dim=1\n",
    "epsilon=100\n",
    "\n",
    "\n",
    "#discrimator and gernerator\n",
    "tf.random.set_seed(0)\n",
    "discriminator=make_discriminator_model()\n",
    "generator=make_generator_model()\n",
    "\n",
    "tf.config.run_functions_eagerly(True)\n",
    "\n",
    "\n",
    "\n",
    "gen_loss_epoch=[]\n",
    "disc_loss_epoch=[]\n",
    "plot_distribution(real_data=X,generated_data=Xhat,discriminator=discriminator )\n",
    "print(\"epoch\",0)\n",
    "\n",
    "for epoch in tqdm(range(epochs)):\n",
    "    #data for the true distribution of your real data samples training ste\n",
    "    x = tf.random.normal((BATCH_SIZE,1),mean=10,stddev=1.0)\n",
    "    #random samples it was found if you increase the standard deviation, you get better results\n",
    "    z= tf.random.normal([BATCH_SIZE, noise_dim],mean=0,stddev=10)\n",
    "    # needed to compute the gradients for a list of variables.\n",
    "    with tf.GradientTape() as gen_tape, tf.GradientTape() as disc_tape:\n",
    "        #generated sample\n",
    "        xhat = generator(z, training=True)\n",
    "        #the output of the discriminator for real data\n",
    "        real_output = discriminator(x, training=True)\n",
    "        #the output of the discriminator  data\n",
    "        fake_output = discriminator(xhat, training=True)\n",
    "        #loss for each\n",
    "        gen_loss= generator_loss(fake_output)\n",
    "        disc_loss = discriminator_loss(real_output, fake_output)\n",
    "    # Compute the gradients for gen_loss and generator\n",
    "    gradients_of_generator = gen_tape.gradient(gen_loss, generator.trainable_variables)\n",
    "    # Compute the gradients for gen_loss and discriminator\n",
    "    gradients_of_discriminator = disc_tape.gradient(disc_loss, discriminator.trainable_variables)\n",
    "    # Ask the optimizer to apply the processed gradients\n",
    "    generator_optimizer.apply_gradients(zip(gradients_of_generator, generator.trainable_variables))\n",
    "    discriminator_optimizer.apply_gradients(zip(gradients_of_discriminator, discriminator.trainable_variables))\n",
    "\n",
    "  # Save and display the generator and discriminator if the performance increases\n",
    "    if abs(0.5-get_accuracy(x,xhat))<epsilon:\n",
    "        epsilon=abs(0.5-get_accuracy(x,xhat))\n",
    "        generator.save('generator.keras')\n",
    "        discriminator.save('discriminator.keras')\n",
    "        print(get_accuracy(x,xhat))\n",
    "        plot_distribution(real_data=X,generated_data=xhat,discriminator=discriminator )\n",
    "        print(\"epoch\",epoch)"
   ]
  },
  {
   "cell_type": "markdown",
   "metadata": {
    "id": "m4DGzj6Ay4lz"
   },
   "source": [
    "For more on training GANs check out the following <a href=\"https://jonathan-hui.medium.com/gan-why-it-is-so-hard-to-train-generative-advisory-networks-819a86b3750b?utm_medium=Exinfluencer&utm_source=Exinfluencer&utm_content=000026UJ&utm_term=10006555&utm_id=NA-SkillsNetwork-Channel-SkillsNetworkGuidedProjectsIBMGPXX0XCEEN72-2022-01-01\">blog</a>. We can display the best performing model\n"
   ]
  },
  {
   "cell_type": "code",
   "execution_count": null,
   "metadata": {
    "colab": {
     "base_uri": "https://localhost:8080/",
     "height": 449
    },
    "id": "5cfE5IJVy4lz",
    "outputId": "670fe3fe-81b7-4b02-9c5e-7f77206fa5cf"
   },
   "outputs": [],
   "source": [
    "generator=make_generator_model()\n",
    "generator= models.load_model('generator.keras')\n",
    "xhat=generator(z)\n",
    "discriminator=models.load_model('discriminator.keras')\n",
    "plot_distribution(real_data=X,generated_data=xhat,discriminator=discriminator )"
   ]
  },
  {
   "cell_type": "markdown",
   "metadata": {
    "id": "HgPl8uS7y4lz"
   },
   "source": [
    "----\n"
   ]
  },
  {
   "cell_type": "markdown",
   "metadata": {
    "id": "oArk-Kx4y4lz"
   },
   "source": [
    "In the content above, you learned about the working mechanics of Generative Adversarial Networks (GANs) and their various applications, such as Image Generation. However, GANs have also been known to be unstable to train, and often, the generated images suffer from being noisy and incomprehensible.\n",
    "\n",
    "For a improved result in the case example, we are applying Convolutional Neural Networks to GANS. They are called Deep Convolutional Generative Adversarial Networks (DCGANs).\n",
    "We will build and train DCGANs in the following content, using several approaches introduced in the original <a href=\"https://cf-courses-data.s3.us.cloud-object-storage.appdomain.cloud/IBM-GPXX0XCEEN/papers/1511.06434.pdf\">DCGANs paper</a>.\n",
    "\n"
   ]
  },
  {
   "cell_type": "markdown",
   "metadata": {
    "id": "ZklmMBcZy4l0"
   },
   "source": [
    "----\n"
   ]
  },
  {
   "cell_type": "markdown",
   "metadata": {
    "id": "R3bw_Puvy4l0"
   },
   "source": [
    "## Deep Convolutional Generative Adversarial Networks (DCGANs)\n"
   ]
  },
  {
   "cell_type": "markdown",
   "metadata": {
    "id": "_tKk8Cr8y4l0"
   },
   "source": [
    "### Case background\n"
   ]
  },
  {
   "cell_type": "markdown",
   "metadata": {
    "id": "HRTWI_Iwy4l0"
   },
   "source": [
    "In the case example, you work for an online anime video game company; the company would like to create a unique anime avatar for a game for each player. As there are millions of players, you must use a DCGANs to create each character.\n",
    "\n",
    "The proposed approaches are summarized here:\n",
    "\n",
    "- Replace any pooling layers with **strided convolutions (discriminator)** and **fractional-strided\n",
    "convolutions (generator)**.\n",
    "- Use **batchnorm** in both the generator and the discriminator.\n",
    "- **Remove fully connected hidden layers** for deeper architectures.\n",
    "- Use **ReLU** activation in generator for all layers except for the output, which uses **Tanh**.\n",
    "- Use **LeakyReLU** activation in the discriminator for all layers except for the output, which uses **Sigmoid**.\n",
    "- Use **Adam optimizer**.  \n",
    "\n",
    "These approaches will result in more stable training of deeper generative models.\n"
   ]
  },
  {
   "cell_type": "markdown",
   "metadata": {
    "id": "9tLLGgCzy4l0"
   },
   "source": [
    "### Loading the Dataset\n",
    "\n",
    "We will mainly work with the Anime Face dataset from [Kaggle](https://www.kaggle.com/datasets/splcher/animefacedataset?utm_medium=Exinfluencer&utm_source=Exinfluencer&utm_content=000026UJ&utm_term=10006555&utm_id=NA-SkillsNetwork-Channel-SkillsNetworkGuidedProjectsIBMGPXX0XCEEN72-2022-01-01). The original dataset has 63,632 \"high-quality\" anime faces, but to make the models train faster in this lab, we randomly sampled 20,000 images and prepared a dataset called `cartoon_20000`.\n",
    "\n",
    "Let's download the smaller dataset using the Skills Network library's `prepare` function:\n"
   ]
  },
  {
   "cell_type": "code",
   "execution_count": null,
   "metadata": {
    "colab": {
     "base_uri": "https://localhost:8080/",
     "height": 34,
     "referenced_widgets": [
      "c092e4a0885347138596ae408218ab92",
      "40e0100a78584f5b9175fa6328707a7a",
      "f6d5e52f5c964876a10bc795bf39a60b",
      "8f092459098c4016a341459e52578862",
      "1f90c657ecb645d9b96ee435c64df54a",
      "52f4c1f0153c4ae68e6c7e02b58452ee",
      "e3b5103fdee6494091504d5fc6ed3b46",
      "a34fe3416c8c4eef9a2367297881578c",
      "ef3b4a38f0eb457593147f8e50095eb2",
      "73ddcd6fe91743f184c3c6c456ced288",
      "38507b76dd7440dd8fcdde482ac8c7d9",
      "96358ebae99c4b038c9299880f372eee",
      "a107921ce77347b8a7fbdecb13e16a2e",
      "d8214e41f6c344f097b6e90a1eff66a7",
      "dd7dbaa622c94f5e8c54b18d5bdc6404",
      "e58aae9a12c341a4ab604d37880039ff",
      "4dd8b551db7749098c19c0d5ba78bea7",
      "1f921af5195049d3bb2eec88ba55052c",
      "a1420b6a88b94a63b38ed4963975a05e",
      "815c57951e8d40b39ac5e244e7281671",
      "958fec28deda4988a68a0df102f19317",
      "ac918a7664884152b034e6cd4906423f"
     ]
    },
    "id": "MeQi6eGFy4l0",
    "outputId": "acfc34e6-0895-4297-afca-e351faa72901"
   },
   "outputs": [],
   "source": [
    "dataset_url=\"https://cf-courses-data.s3.us.cloud-object-storage.appdomain.cloud/IBMDeveloperSkillsNetwork-ML311-Coursera/labs/Module6/cartoon_20000.zip\"\n",
    "await skillsnetwork.prepare(dataset_url, overwrite=True)"
   ]
  },
  {
   "cell_type": "code",
   "execution_count": null,
   "metadata": {
    "id": "TDjtOImWtJHr"
   },
   "outputs": [],
   "source": [
    "from google.colab import output\n",
    "output.enable_custom_widget_manager()"
   ]
  },
  {
   "cell_type": "markdown",
   "metadata": {
    "id": "GHQE8S5vtJHt"
   },
   "source": [
    "Support for third party widgets will remain active for the duration of the session. To disable support:"
   ]
  },
  {
   "cell_type": "code",
   "execution_count": null,
   "metadata": {
    "id": "QLLvJ6MEtJHv"
   },
   "outputs": [],
   "source": [
    "from google.colab import output\n",
    "output.disable_custom_widget_manager()"
   ]
  },
  {
   "cell_type": "code",
   "execution_count": null,
   "metadata": {
    "id": "kDziEfTg3luA"
   },
   "outputs": [],
   "source": [
    "from google.colab import output\n",
    "output.enable_custom_widget_manager()"
   ]
  },
  {
   "cell_type": "markdown",
   "metadata": {
    "id": "M1kdd8ak3luA"
   },
   "source": [
    "Support for third party widgets will remain active for the duration of the session. To disable support:"
   ]
  },
  {
   "cell_type": "code",
   "execution_count": null,
   "metadata": {
    "id": "J646xRl_3luA"
   },
   "outputs": [],
   "source": [
    "from google.colab import output\n",
    "output.disable_custom_widget_manager()"
   ]
  },
  {
   "cell_type": "markdown",
   "metadata": {
    "id": "ABFClt5Fy4l0"
   },
   "source": [
    "The Anime Face or the Cartoon images are stored in the `cartoon_2000` folder in your current working directory. As a preprocessing step, we have removed any files that are not proper image formats (based on the file extensions) and any duplicate images.\n"
   ]
  },
  {
   "cell_type": "markdown",
   "metadata": {
    "id": "5oKQIbs3y4l0"
   },
   "source": [
    "### Creating Data Generator\n"
   ]
  },
  {
   "cell_type": "markdown",
   "metadata": {
    "id": "DVborTFUy4l1"
   },
   "source": [
    "First, we declare some properties of our images, including image height, image width, and batch size.\n"
   ]
  },
  {
   "cell_type": "code",
   "execution_count": null,
   "metadata": {
    "id": "UfZjNDFAy4l1"
   },
   "outputs": [],
   "source": [
    "img_height, img_width, batch_size=64,64,128"
   ]
  },
  {
   "cell_type": "markdown",
   "metadata": {
    "id": "c6nFHk9by4l1"
   },
   "source": [
    "Next, we create a Keras <code>image_dataset_from_directory</code> object with a specified image directory and the parameters are defined as above. This process may take some time:\n"
   ]
  },
  {
   "cell_type": "code",
   "execution_count": null,
   "metadata": {
    "colab": {
     "base_uri": "https://localhost:8080/"
    },
    "id": "KoHjnNYWy4l1",
    "outputId": "bbd869b7-84b7-4d2c-b1ee-713ff571966d"
   },
   "outputs": [],
   "source": [
    "train_ds = tf.keras.utils.image_dataset_from_directory(directory='cartoon_20000',\n",
    "                                                       image_size=(img_height, img_width),\n",
    "                                                       batch_size=batch_size,\n",
    "                                                       label_mode=None)"
   ]
  },
  {
   "cell_type": "markdown",
   "metadata": {
    "id": "wmMbHhUxy4l1"
   },
   "source": [
    "The `train_ds` we defined is a `tf.data.Dataset` that yields batches of images with `image_size = (64, 64)` from the directory specified or subdirectories (if any).\n"
   ]
  },
  {
   "cell_type": "markdown",
   "metadata": {
    "id": "jGZfO4Lky4l1"
   },
   "source": [
    "**(OPTIONAL)** If you are running this notebook locally and you have multiple cores, then we can use the runtime to tune the value dynamically at runtime as follows:\n"
   ]
  },
  {
   "cell_type": "code",
   "execution_count": null,
   "metadata": {
    "id": "ky6_v-RVy4l1"
   },
   "outputs": [],
   "source": [
    "# AUTOTUNE = tf.data.experimental.AUTOTUNE\n",
    "\n",
    "# train_ds = train_ds.cache().shuffle(1000).prefetch(buffer_size=AUTOTUNE)"
   ]
  },
  {
   "cell_type": "markdown",
   "metadata": {
    "id": "qpJicfIry4l2"
   },
   "source": [
    "We apply the Lambda function on `train_ds` to normalize the pixel values of all the input images from $[0, 255]$ to $[-1, 1]$:\n"
   ]
  },
  {
   "cell_type": "code",
   "execution_count": null,
   "metadata": {
    "id": "9fQqUEuIy4l2"
   },
   "outputs": [],
   "source": [
    "normalization_layer = layers.Rescaling(scale= 1./127.5, offset=-1)\n",
    "normalized_ds = train_ds.map(lambda x: normalization_layer(x))"
   ]
  },
  {
   "cell_type": "markdown",
   "metadata": {
    "id": "Em9ZHxXey4l2"
   },
   "source": [
    "Let's take one batch of images for displaying:\n"
   ]
  },
  {
   "cell_type": "code",
   "execution_count": null,
   "metadata": {
    "id": "W4njw0t4y4l2"
   },
   "outputs": [],
   "source": [
    "images=train_ds.take(1)"
   ]
  },
  {
   "cell_type": "markdown",
   "metadata": {
    "id": "NuEnLHcoy4l2"
   },
   "source": [
    "Convert the batch dimension to the indexes in a list:\n"
   ]
  },
  {
   "cell_type": "code",
   "execution_count": null,
   "metadata": {
    "id": "ojjm986Gy4l2"
   },
   "outputs": [],
   "source": [
    "X=[x for x in images]"
   ]
  },
  {
   "cell_type": "markdown",
   "metadata": {
    "id": "lxT3gi2Ay4l2"
   },
   "source": [
    "We can then plot the first five images in the batch using the function   ```plot_array```:\n"
   ]
  },
  {
   "cell_type": "code",
   "execution_count": null,
   "metadata": {
    "colab": {
     "base_uri": "https://localhost:8080/",
     "height": 275
    },
    "id": "NJs2oPETy4l2",
    "outputId": "3477a3e6-728a-42ce-c3a0-20a067dc9f78"
   },
   "outputs": [],
   "source": [
    "plot_array(X[0])"
   ]
  },
  {
   "cell_type": "markdown",
   "metadata": {
    "id": "yHmvcDBqy4l3"
   },
   "source": [
    "###  Generator and Discriminator (for DCGANs)\n"
   ]
  },
  {
   "cell_type": "markdown",
   "metadata": {
    "id": "IWa6BWI2y4l3"
   },
   "source": [
    "___Building the Generator___\n"
   ]
  },
  {
   "cell_type": "markdown",
   "metadata": {
    "id": "x5-N9IF7y4l3"
   },
   "source": [
    "The Generator is comprised of several layers of transposed convolution, the opposite of convolution operations.\n",
    "\n",
    "- Each Conv2DTranspose layer (except the final layer) is followed by a Batch Normalization layer and a **Relu activation**; for more implementation details, check out <a href=\"https://cf-courses-data.s3.us.cloud-object-storage.appdomain.cloud/IBM-GPXX0XCEEN/papers/1511.06434.pdf\">[2]</a>.\n",
    "- The final transpose convolution layer has three output channels since the output needs to be a color image. We use the **Tanh activation** in the final layer.\n",
    "\n",
    "See the illustration of the architecture from <a href=\"https://cf-courses-data.s3.us.cloud-object-storage.appdomain.cloud/IBM-GPXX0XCEEN/papers/1511.06434.pdf\">[2]</a> below.\n",
    "\n",
    "<center><img src=\"https://cf-courses-data.s3.us.cloud-object-storage.appdomain.cloud/IBM-GPXX0XCEEN/images/generator.png\" alt=\"generator image\" width=\"80%\"></center>\n",
    "\n",
    "\n",
    "We build the Generator network by using the parameter values from <a href=\"https://learnopencv.com/deep-convolutional-gan-in-pytorch-and-tensorflow/?utm_medium=Exinfluencer&utm_source=Exinfluencer&utm_content=000026UJ&utm_term=10006555&utm_id=NA-SkillsNetwork-Channel-SkillsNetworkGuidedProjectsIBMGPXX0XCEEN72-2022-01-01\" >[3]<a>.\n"
   ]
  },
  {
   "cell_type": "code",
   "execution_count": null,
   "metadata": {
    "id": "Q69hmRYQy4l3"
   },
   "outputs": [],
   "source": [
    "from tensorflow.keras import Model\n",
    "\n",
    "def make_generator():\n",
    "    # Create input layer explicitly\n",
    "    inputs = Input(shape=(1, 1, 100), name='input_layer')\n",
    "\n",
    "    # Block 1: input is latent vector -> 4x4x512\n",
    "    x = Conv2DTranspose(64 * 8, kernel_size=4, strides=4, padding='same',\n",
    "                       kernel_initializer=tf.keras.initializers.RandomNormal(mean=0.0, stddev=0.02),\n",
    "                       use_bias=False, name='conv_transpose_1')(inputs)\n",
    "    x = BatchNormalization(momentum=0.1, epsilon=0.8, center=1.0, scale=0.02, name='bn_1')(x)\n",
    "    x = ReLU(name='relu_1')(x)\n",
    "\n",
    "    # Block 2: 4x4x512 -> 8x8x256\n",
    "    x = Conv2DTranspose(64 * 4, kernel_size=4, strides=2, padding='same',\n",
    "                       kernel_initializer=tf.keras.initializers.RandomNormal(mean=0.0, stddev=0.02),\n",
    "                       use_bias=False, name='conv_transpose_2')(x)\n",
    "    x = BatchNormalization(momentum=0.1, epsilon=0.8, center=1.0, scale=0.02, name='bn_2')(x)\n",
    "    x = ReLU(name='relu_2')(x)\n",
    "\n",
    "    # Block 3: 8x8x256 -> 16x16x128\n",
    "    x = Conv2DTranspose(64 * 2, kernel_size=4, strides=2, padding='same',\n",
    "                       kernel_initializer=tf.keras.initializers.RandomNormal(mean=0.0, stddev=0.02),\n",
    "                       use_bias=False, name='conv_transpose_3')(x)\n",
    "    x = BatchNormalization(momentum=0.1, epsilon=0.8, center=1.0, scale=0.02, name='bn_3')(x)\n",
    "    x = ReLU(name='relu_3')(x)\n",
    "\n",
    "    # Block 4: 16x16x128 -> 32x32x64\n",
    "    x = Conv2DTranspose(64 * 1, kernel_size=4, strides=2, padding='same',\n",
    "                       kernel_initializer=tf.keras.initializers.RandomNormal(mean=0.0, stddev=0.02),\n",
    "                       use_bias=False, name='conv_transpose_4')(x)\n",
    "    x = BatchNormalization(momentum=0.1, epsilon=0.8, center=1.0, scale=0.02, name='bn_4')(x)\n",
    "    x = ReLU(name='relu_4')(x)\n",
    "\n",
    "    # Final Block: 32x32x64 -> 64x64x3\n",
    "    outputs = Conv2DTranspose(3, kernel_size=4, strides=2, padding='same',\n",
    "                            kernel_initializer=tf.keras.initializers.RandomNormal(mean=0.0, stddev=0.02),\n",
    "                            use_bias=False, activation='tanh',\n",
    "                            name='conv_transpose_5')(x)\n",
    "\n",
    "    # Create model using functional API\n",
    "    model = Model(inputs=inputs, outputs=outputs, name='generator')\n",
    "\n",
    "    return model"
   ]
  },
  {
   "cell_type": "markdown",
   "metadata": {
    "id": "M5IV7bf7y4l3"
   },
   "source": [
    "By printing the summary of the Generator architecture, we can see that the transposed convolutions **upsample** a 100-dim input vector to a high-dimensional image of size 64 x 64 x 3.\n"
   ]
  },
  {
   "cell_type": "code",
   "execution_count": null,
   "metadata": {
    "colab": {
     "base_uri": "https://localhost:8080/",
     "height": 577
    },
    "id": "dhFIVI8Qy4l3",
    "outputId": "dbb72554-8b25-4aa7-b715-6c738c0362e2"
   },
   "outputs": [],
   "source": [
    "gen = make_generator()\n",
    "gen.summary()"
   ]
  },
  {
   "cell_type": "markdown",
   "metadata": {
    "id": "FnyiIw5Ny4l3"
   },
   "source": [
    "___Building the Discriminator___\n"
   ]
  },
  {
   "cell_type": "markdown",
   "metadata": {
    "id": "YKC1ULXIy4l3"
   },
   "source": [
    "The Discriminator has five convolution layers.\n",
    "\n",
    "- All but the first and final Conv2D layers have Batch Normalization, since directly applying batchnorm to all layers could result in sample oscillation and model instability;\n",
    "- The first four Conv2D layers use the **Leaky-Relu activation** with a slope of 0.2.\n",
    "- Lastly, instead of a fully connected layer, the  output layer has a convolution layer with a **Sigmoid activation** function.\n"
   ]
  },
  {
   "cell_type": "code",
   "execution_count": null,
   "metadata": {
    "id": "3pvTmoHMy4l4"
   },
   "outputs": [],
   "source": [
    "def make_discriminator():\n",
    "\n",
    "    model=Sequential()\n",
    "\n",
    "    # Block 1: input is 64 x 64 x (3)\n",
    "    model.add(Input(shape=(64, 64, 3), name='input_layer'))\n",
    "    model.add(Conv2D(64, kernel_size=4, strides= 2, padding='same', kernel_initializer=tf.keras.initializers.RandomNormal(mean=0.0, stddev=0.02), use_bias=False, name='conv_1'))\n",
    "    model.add(LeakyReLU(0.2, name='leaky_relu_1'))\n",
    "\n",
    "    # Block 2: input is 32 x 32 x (64)\n",
    "    model.add(Conv2D(64 * 2, kernel_size=4, strides= 2, padding='same', kernel_initializer=tf.keras.initializers.RandomNormal(mean=0.0, stddev=0.02), use_bias=False, name='conv_2'))\n",
    "    model.add(BatchNormalization(momentum=0.1,  epsilon=0.8, center=1.0, scale=0.02, name='bn_1'))\n",
    "    model.add(LeakyReLU(0.2, name='leaky_relu_2'))\n",
    "\n",
    "    # Block 3\n",
    "    model.add(Conv2D(64 * 4, 4, 2, padding='same', kernel_initializer=tf.keras.initializers.RandomNormal(mean=0.0, stddev=0.02), use_bias=False, name='conv_3'))\n",
    "    model.add(BatchNormalization(momentum=0.1,  epsilon=0.8, center=1.0, scale=0.02, name='bn_2'))\n",
    "    model.add(LeakyReLU(0.2, name='leaky_relu_3'))\n",
    "\n",
    "\n",
    "    #Block 4\n",
    "    model.add(Conv2D(64 * 8, 4, 2, padding='same', kernel_initializer=tf.keras.initializers.RandomNormal(mean=0.0, stddev=0.02), use_bias=False, name='conv_4'))\n",
    "    model.add(BatchNormalization(momentum=0.1,  epsilon=0.8, center=1.0, scale=0.02, name='bn_3'))\n",
    "    model.add(LeakyReLU(0.2, name='leaky_relu_4'))\n",
    "\n",
    "\n",
    "    #Block 5\n",
    "    model.add(Conv2D(1, 4, 2,padding='same', kernel_initializer=tf.keras.initializers.RandomNormal(mean=0.0, stddev=0.02), use_bias=False,\n",
    "                     activation='sigmoid', name='conv_5'))\n",
    "\n",
    "    return model"
   ]
  },
  {
   "cell_type": "markdown",
   "metadata": {
    "id": "4qNo4MBvy4l4"
   },
   "source": [
    "By printing the summary of the Discriminator architecture, we can see that the strided convolutions **downsample** an input image of size 64 x 64 x 3.\n"
   ]
  },
  {
   "cell_type": "code",
   "execution_count": null,
   "metadata": {
    "colab": {
     "base_uri": "https://localhost:8080/",
     "height": 513
    },
    "id": "sDtxtXRZy4l4",
    "outputId": "11c142ac-2f9c-4190-8dce-6fb1eaf7b322"
   },
   "outputs": [],
   "source": [
    "disc = make_discriminator()\n",
    "disc.summary()"
   ]
  },
  {
   "cell_type": "markdown",
   "metadata": {
    "id": "8xzFayXKy4l4"
   },
   "source": [
    "### Defining Loss Functions\n",
    "\n",
    "As we discussed in the previous section, the min-max optimization problem can be formulated by minimizing the cross entropy loss for the Generator and Discriminator.  \n",
    "\n",
    "The `cross_entropy` object is the Binary Cross Entropy loss that will be used to model the objectives of the two networks.\n"
   ]
  },
  {
   "cell_type": "code",
   "execution_count": null,
   "metadata": {
    "id": "KwFtzB5Cy4l4"
   },
   "outputs": [],
   "source": [
    "cross_entropy = tf.keras.losses.BinaryCrossentropy(from_logits=True)"
   ]
  },
  {
   "cell_type": "code",
   "execution_count": null,
   "metadata": {
    "id": "k3GQKHr0y4l4"
   },
   "outputs": [],
   "source": [
    "def generator_loss(Xhat):\n",
    "    return cross_entropy(tf.ones_like(Xhat), Xhat)"
   ]
  },
  {
   "cell_type": "code",
   "execution_count": null,
   "metadata": {
    "id": "_jWd4jfmy4l4"
   },
   "outputs": [],
   "source": [
    "def discriminator_loss(X, Xhat):\n",
    "    real_loss = cross_entropy(tf.ones_like(X), X)\n",
    "    fake_loss = cross_entropy(tf.zeros_like(Xhat), Xhat)\n",
    "    total_loss = 0.5*(real_loss + fake_loss)\n",
    "    return total_loss"
   ]
  },
  {
   "cell_type": "markdown",
   "metadata": {
    "id": "uO3f5l_zy4l4"
   },
   "source": [
    "### Defining Optimizers\n",
    "\n",
    "We create two Adam optimizers for the discriminator and the generator, respectively. We pass the following arguments to the optimizers:\n",
    "\n",
    "- learning rate of 0.0002.\n",
    "- beta coefficients $\\beta_1 = 0.5$ and $\\beta_2 = 0.999$, which are responsible for computing the running averages of the gradients during backpropagation.\n"
   ]
  },
  {
   "cell_type": "code",
   "execution_count": null,
   "metadata": {
    "id": "8ujjodZdy4l4"
   },
   "outputs": [],
   "source": [
    "learning_rate = 0.0002\n",
    "\n",
    "generator_optimizer = tf.keras.optimizers.Adam(learning_rate = 0.0002, beta_1 = 0.5, beta_2 = 0.999 )\n",
    "\n",
    "discriminator_optimizer = tf.keras.optimizers.Adam(learning_rate = 0.0002, beta_1 = 0.5, beta_2 = 0.999 )"
   ]
  },
  {
   "cell_type": "markdown",
   "metadata": {
    "id": "f9fj2upoy4l5"
   },
   "source": [
    "### Create Train Step Function\n",
    "\n",
    "As this lab is more computationally intensive than the last lab, we convert the training step into a function and then use the  @tf.function decorator, which allows the function to be \"compiled\" into a **callable TensorFlow graph**. This will speed up the training; for more information, read <a href=\"https://www.tensorflow.org/guide/function?utm_medium=Exinfluencer&utm_source=Exinfluencer&utm_content=000026UJ&utm_term=10006555&utm_id=NA-SkillsNetwork-Channel-SkillsNetworkGuidedProjectsIBMGPXX0XCEEN72-2022-01-01\">here </a>\n"
   ]
  },
  {
   "cell_type": "code",
   "execution_count": null,
   "metadata": {
    "id": "cvSHUAdWy4l5"
   },
   "outputs": [],
   "source": [
    "@tf.function\n",
    "\n",
    "def train_step(X):\n",
    "\n",
    "    #random samples it was found if you increase the  stander deviation, you get better results\n",
    "    z= tf.random.normal([BATCH_SIZE, 1, 1, latent_dim])\n",
    "      # needed to compute the gradients for a list of variables.\n",
    "    with tf.GradientTape() as gen_tape, tf.GradientTape() as disc_tape:\n",
    "        #generated sample\n",
    "        xhat = generator(z, training=True)\n",
    "        #the output of the discriminator for real data\n",
    "        real_output = discriminator(X, training=True)\n",
    "        #the output of the discriminator for fake data\n",
    "        fake_output = discriminator(xhat, training=True)\n",
    "\n",
    "        #loss for each\n",
    "        gen_loss= generator_loss(fake_output)\n",
    "        disc_loss = discriminator_loss(real_output, fake_output)\n",
    "      # Compute the gradients for gen_loss and generator\n",
    "\n",
    "    gradients_of_generator = gen_tape.gradient(gen_loss, generator.trainable_variables)\n",
    "    # Compute the gradients for gen_loss and discriminator\n",
    "    gradients_of_discriminator = disc_tape.gradient(disc_loss, discriminator.trainable_variables)\n",
    "    # Ask the optimizer to apply the processed gradients\n",
    "    generator_optimizer.apply_gradients(zip(gradients_of_generator, generator.trainable_variables))\n",
    "    discriminator_optimizer.apply_gradients(zip(gradients_of_discriminator, discriminator.trainable_variables))"
   ]
  },
  {
   "cell_type": "markdown",
   "metadata": {
    "id": "gZubcDsFy4l5"
   },
   "source": [
    "Don't be intimidated by the code above, here is a summary of what a train step accomplishes:\n",
    "\n",
    "- First, we sample `z`, a batch of noise vectors from a normal distribution ($\\mu = 1, \\sigma = 1$) and feed it to the Generator.\n",
    "- The Generator produces generated or \"fake\" images `xhat`.\n",
    "- We feed real images `X` and fake images `xhat` to the Discriminator and obtain `real_output` and `fake_output` respectively as the scores.\n",
    "- We calculate Generator loss `gen_loss` using the `fake_output` from Discriminator since we want the fake images to fool the Discriminator as much as possible.\n",
    "- We calculate Discriminator loss `disc_loss` using both the `real_output` and `fake_output` since we want the Discriminator to distinguish the two as much as possible.\n",
    "- We calculate `gradients_of_generator` and  `gradients_of_discriminator` based on the losses obtained.\n",
    "- Finally, we update the Generator and Discriminator by letting their respective optimizers apply the processed gradients on the trainable model parameters.\n"
   ]
  },
  {
   "cell_type": "markdown",
   "metadata": {
    "id": "v60R6mw3y4l5"
   },
   "source": [
    "We can transform the random noise using the generator. As the generator is not trained yet, the output appears to be noises:\n"
   ]
  },
  {
   "cell_type": "code",
   "execution_count": null,
   "metadata": {
    "colab": {
     "base_uri": "https://localhost:8080/",
     "height": 275
    },
    "id": "uXy08D4dy4l5",
    "outputId": "1351c025-fd74-452b-828c-72065c139047"
   },
   "outputs": [],
   "source": [
    "generator= make_generator()\n",
    "BATCH_SIZE=128\n",
    "\n",
    "latent_dim=100\n",
    "noise = tf.random.normal([BATCH_SIZE, 1, 1, latent_dim])\n",
    "Xhat=generator(noise,training=False)\n",
    "plot_array(Xhat)"
   ]
  },
  {
   "cell_type": "markdown",
   "metadata": {
    "id": "ZVBNzXQFy4l5"
   },
   "source": [
    "### Training DCGANs\n"
   ]
  },
  {
   "cell_type": "markdown",
   "metadata": {
    "id": "oe9AenPKy4l5"
   },
   "source": [
    "As this method is computationally intensive, we will train the model for one epoch and then use the generator to produce artificial images.\n",
    "\n",
    "__Even 1 epoch in DCGANs training takes long time.__ You can __stop the training__ here and import the pre-trained model following the instruction below.\n"
   ]
  },
  {
   "cell_type": "code",
   "execution_count": null,
   "metadata": {
    "colab": {
     "base_uri": "https://localhost:8080/",
     "height": 1000
    },
    "id": "Ot4lqitay4l6",
    "outputId": "156100e4-7f91-4831-ae93-efa9b3425a19"
   },
   "outputs": [],
   "source": [
    "epochs=1\n",
    "\n",
    "discriminator=make_discriminator()\n",
    "\n",
    "generator= make_generator()\n",
    "\n",
    "\n",
    "for epoch in range(epochs):\n",
    "\n",
    "    #data for the true distribution of your real data samples training ste\n",
    "    start = time.time()\n",
    "    i=0\n",
    "    for X in tqdm(normalized_ds, desc=f\"epoch {epoch+1}\", total=len(normalized_ds)):\n",
    "\n",
    "        i+=1\n",
    "        if i%1000:\n",
    "            print(\"epoch {}, iteration {}\".format(epoch+1, i))\n",
    "\n",
    "        train_step(X)\n",
    "\n",
    "\n",
    "    noise = tf.random.normal([BATCH_SIZE, 1, 1, latent_dim])\n",
    "    Xhat=generator(noise,training=False)\n",
    "    X=[x for x in normalized_ds]\n",
    "    print(\"orignal images\")\n",
    "    plot_array(X[0])\n",
    "    print(\"generated images\")\n",
    "    plot_array(Xhat)\n",
    "    print ('Time for epoch {} is {} sec'.format(epoch + 1, time.time()-start))"
   ]
  },
  {
   "cell_type": "markdown",
   "metadata": {
    "id": "kCWrdzDWy4l6"
   },
   "source": [
    "As you can see that, with only one epoch of training and a reduced number of training images, our GAN didn't learn much information, and thus, the generator wasn't able to produce images that make sense to human eyes. There are two quick actions you can take to try to improve the results:\n",
    "\n",
    "1. Re-train the GAN using the full dataset that has 63,632 images.\n",
    "    - To do so, simply go back to the **Loading the Dataset** section in **DCGANs**, replace the url of the dataset with \"https://cf-courses-data.s3.us.cloud-object-storage.appdomain.cloud/IBMDeveloperSkillsNetwork-ML311-Coursera/labs/Module5/L2/cartoon_data.tgz\", change the `directory` argument in `tf.keras.utils.image_dataset_from_directory` to `'cartoon_data'` in **Creating data generator** section and re-run all the cells.\n",
    "    - Note that using more training data does allows the model to learn better and perform better, but it will result in longer training time! **With 63K training images and batch size of 128, your model will train for ~497 iterations.**\n",
    "\n",
    "\n",
    "2. Use a pre-trained generator model to generate images.\n",
    "    - You don't need to experience the training time at all!\n",
    "    - Proceed to the next subsection to load a pre-trained model, and you will see that the generator trained with 150 epochs can produce almost realistic anime faces.\n"
   ]
  },
  {
   "cell_type": "markdown",
   "metadata": {
    "id": "LSlm2_r5y4l6"
   },
   "source": [
    "___Loading Pre-trained model (150 epochs)___\n"
   ]
  },
  {
   "cell_type": "markdown",
   "metadata": {
    "id": "M47yV_Jiy4l6"
   },
   "source": [
    "As you saw, training a GAN with only one epoch takes quite a long time. If we want to evaluate the performance of a fully trained and optimized GAN, we would need to increase the number of epochs.\n",
    "Thus, to help you **avoid extremely long training time** in this lab, we will just **download the pre-trained Generator network parameters** and then use Kera `load_model` function to obtain a **pre-trained Generator**, which we will use to generate images directly.\n"
   ]
  },
  {
   "cell_type": "code",
   "execution_count": null,
   "metadata": {
    "colab": {
     "base_uri": "https://localhost:8080/",
     "height": 34,
     "referenced_widgets": [
      "019552b1ff4147febbf80522c005e6ae",
      "cba20372b37447608c4e6893561b1f2b",
      "4ac1520de520419f959f0becc14024c6",
      "1f814df9b01043db870dab8d2a7d1821",
      "2dc5b5eb845141c483b06bce054892ab",
      "84df39a78fa24c30ad99d3c003be1944",
      "b47b643d69dd46a7b16e0e05a002ad39",
      "21502a138e16465c8f58cef1c2f0390f",
      "e3410b333d244de0a677d07c00aeccb5",
      "918de960e4ba4da591e15afb17194dd8",
      "54ca003a8d6e4b0684d36e45ec878da4",
      "bdffe8a5c62a4c2089800c8538e2ff6e",
      "6aa294e41db7449abfc704bcc2d7a522",
      "3a7902c70ac4435b8aea2f665e1dcf5b",
      "f111b64dacb74dceae6e7af6be4c4cee",
      "7bb33777b56040f58c298d5288f6bc68",
      "b504bd3cb83d477789b5bf4613bdae39",
      "669fd6a54c5c4f63be85d366df35cc10",
      "c60f325ea02845f2b8220f0977979828",
      "3be062a483ef43eb95c4da19d61eca0e",
      "ab670c1d39764735aab853fca0e631a2",
      "c4ce2b03532e4552b66f2bc718361cc9"
     ]
    },
    "id": "fBcZc9KFy4l6",
    "outputId": "1e03d8ea-2c88-4eb2-b2da-34d740cecaaf"
   },
   "outputs": [],
   "source": [
    "generator_url=\"https://cf-courses-data.s3.us.cloud-object-storage.appdomain.cloud/IBM-GPXX0XCEEN/data/generator.tar\"\n",
    "await skillsnetwork.prepare(generator_url, overwrite=True)"
   ]
  },
  {
   "cell_type": "code",
   "execution_count": null,
   "metadata": {
    "id": "by9L4lTdwaD9"
   },
   "outputs": [],
   "source": [
    "from google.colab import output\n",
    "output.enable_custom_widget_manager()"
   ]
  },
  {
   "cell_type": "markdown",
   "metadata": {
    "id": "drnvxg-iwaD-"
   },
   "source": [
    "Support for third party widgets will remain active for the duration of the session. To disable support:"
   ]
  },
  {
   "cell_type": "code",
   "execution_count": null,
   "metadata": {
    "id": "_rH-4Gn8waD-"
   },
   "outputs": [],
   "source": [
    "from google.colab import output\n",
    "output.disable_custom_widget_manager()"
   ]
  },
  {
   "cell_type": "code",
   "execution_count": null,
   "metadata": {
    "id": "inVBQmJN4n1D"
   },
   "outputs": [],
   "source": [
    "from google.colab import output\n",
    "output.enable_custom_widget_manager()"
   ]
  },
  {
   "cell_type": "code",
   "execution_count": null,
   "metadata": {
    "id": "ra3aCzwu6MrW"
   },
   "outputs": [],
   "source": [
    "from google.colab import output\n",
    "output.enable_custom_widget_manager()"
   ]
  },
  {
   "cell_type": "markdown",
   "metadata": {
    "id": "8W44dnrH6MrX"
   },
   "source": [
    "Support for third party widgets will remain active for the duration of the session. To disable support:"
   ]
  },
  {
   "cell_type": "code",
   "execution_count": null,
   "metadata": {
    "id": "Dt_83ohU6MrX"
   },
   "outputs": [],
   "source": [
    "from google.colab import output\n",
    "output.disable_custom_widget_manager()"
   ]
  },
  {
   "cell_type": "code",
   "execution_count": null,
   "metadata": {
    "id": "oEox3rJL8sZO"
   },
   "outputs": [],
   "source": [
    "from google.colab import output\n",
    "output.enable_custom_widget_manager()"
   ]
  },
  {
   "cell_type": "markdown",
   "metadata": {
    "id": "spJtHMQs8sZP"
   },
   "source": [
    "Support for third party widgets will remain active for the duration of the session. To disable support:"
   ]
  },
  {
   "cell_type": "code",
   "execution_count": null,
   "metadata": {
    "id": "0a0p2AMK8sZP"
   },
   "outputs": [],
   "source": [
    "from google.colab import output\n",
    "output.disable_custom_widget_manager()"
   ]
  },
  {
   "cell_type": "markdown",
   "metadata": {
    "id": "hbfJJzQx4n1D"
   },
   "source": [
    "Support for third party widgets will remain active for the duration of the session. To disable support:"
   ]
  },
  {
   "cell_type": "code",
   "execution_count": null,
   "metadata": {
    "id": "-_56XhtH4n1E"
   },
   "outputs": [],
   "source": [
    "from google.colab import output\n",
    "output.disable_custom_widget_manager()"
   ]
  },
  {
   "cell_type": "markdown",
   "metadata": {
    "id": "JnPggy4Ty4l6"
   },
   "source": [
    "Load the generator:\n"
   ]
  },
  {
   "cell_type": "code",
   "execution_count": null,
   "metadata": {
    "id": "OIPP4k-Yy4l6"
   },
   "outputs": [],
   "source": [
    "from tensorflow.keras.models import load_model\n",
    "\n",
    "\n",
    "full_generator=load_model(\"generator.keras\")"
   ]
  },
  {
   "cell_type": "markdown",
   "metadata": {
    "id": "tJoHG5Xmy4l7"
   },
   "source": [
    "Let's generate several images using the fully trained Generator and display them:\n"
   ]
  },
  {
   "cell_type": "code",
   "execution_count": null,
   "metadata": {
    "colab": {
     "base_uri": "https://localhost:8080/",
     "height": 275
    },
    "id": "Y7PQR-Dry4l7",
    "outputId": "613fc0f3-db4f-4587-ef94-efe9c36adf99"
   },
   "outputs": [],
   "source": [
    "# Create noise\n",
    "latent_dim = 100\n",
    "noise = tf.random.normal([200, 1, 1, latent_dim])\n",
    "\n",
    "# Use the new generator 'gen' instead of 'full_generator'\n",
    "Xhat = gen(noise, training=False)  # Use 'gen' here, not 'full_generator'\n",
    "plot_array(Xhat)"
   ]
  },
  {
   "cell_type": "markdown",
   "metadata": {
    "id": "U4CGpc2qy4l7"
   },
   "source": [
    "## Explore Latent Variables\n",
    "\n",
    "Values of $\\mathbf{z}$ that are relatively close together will produce similar images. For example, we can assigns elements of $\\mathbf{z}$ close values such as $[1,0.8,..,0.4]$.\n"
   ]
  },
  {
   "cell_type": "code",
   "execution_count": null,
   "metadata": {
    "colab": {
     "base_uri": "https://localhost:8080/",
     "height": 1000
    },
    "id": "yoJSOsjxy4l7",
    "outputId": "2d0cc7a5-9df3-4a91-82bf-e4a6c12c21d2"
   },
   "outputs": [],
   "source": [
    "for c in [1,0.8,0.6,0.4]:\n",
    "    Xhat=gen(c*tf.ones([1, 1, 1, latent_dim]),training=False) # latent_dim = 100 defined previously\n",
    "    plot_array(Xhat)"
   ]
  },
  {
   "cell_type": "markdown",
   "metadata": {
    "id": "sZAlG_DTy4l7"
   },
   "source": [
    "### Exercise 1\n",
    "\n",
    "Plot the generated images by the Generator with elements of $\\mathbf{z}$ equal $[-1,-0.8,-0.6,-0.4]$.\n"
   ]
  },
  {
   "cell_type": "code",
   "execution_count": null,
   "metadata": {
    "colab": {
     "base_uri": "https://localhost:8080/",
     "height": 529
    },
    "id": "LVKlWi0Jy4l7",
    "outputId": "e8b99243-4a8c-4a81-8cfa-8414cd5c89f0"
   },
   "outputs": [],
   "source": [
    "for c in [1,0.8,0.6,0.4]:\n",
    "    Xhat=full_generator(-c*tf.ones([1, 1, 1, latent_dim]),training=False)\n",
    "    plot_array(Xhat)"
   ]
  },
  {
   "cell_type": "markdown",
   "metadata": {
    "id": "vcBvnTmry4l7"
   },
   "source": [
    "<details>\n",
    "    <summary>Click here for Solution</summary>\n",
    "\n",
    "```python\n",
    "for c in [1,0.8,0.6,0.4]:\n",
    "    Xhat=full_generator(-c*tf.ones([1, 1, 1, latent_dim]),training=False)\n",
    "    plot_array(Xhat)\n",
    " ```   \n",
    "\n",
    "</details>\n"
   ]
  },
  {
   "cell_type": "markdown",
   "metadata": {
    "id": "-LAIFqEFy4l7"
   },
   "source": [
    "We can see how changing the latent variable changes the generated image. Here we alter more and more subsequent values of $\\mathbf{z}$ from 1 to -1; we see the images change accordingly; this is evident in the anime character's hair color:\n"
   ]
  },
  {
   "cell_type": "code",
   "execution_count": null,
   "metadata": {
    "colab": {
     "base_uri": "https://localhost:8080/",
     "height": 547
    },
    "id": "i_dw4Kquy4l7",
    "outputId": "6da41b21-96bd-468b-90d6-10cd2739efb7"
   },
   "outputs": [],
   "source": [
    "z=np.ones( (1, 1, 1, latent_dim))\n",
    "for n in range(10):\n",
    "\n",
    "    z[0, 0, 0, 0:10*n]=-1\n",
    "\n",
    "    Xhat=full_generator(z,training=False)\n",
    "    print(\"elements from 0 to {} is set to -1\".format(10*n))\n",
    "    plot_array(Xhat)"
   ]
  },
  {
   "cell_type": "markdown",
   "metadata": {
    "id": "7691kPnTy4l8"
   },
   "source": [
    "### Exercise 2\n",
    "\n",
    "Repeat the above procedure but set the latent variable $z[0, 0, 0, 0:20*n] = -0.5*n$ each time `for n in range(5)`\n"
   ]
  },
  {
   "cell_type": "code",
   "execution_count": null,
   "metadata": {
    "id": "zQFuaP37y4l8"
   },
   "outputs": [],
   "source": []
  },
  {
   "cell_type": "markdown",
   "metadata": {
    "id": "iV6V0Zquy4l8"
   },
   "source": [
    "<details>\n",
    "    <summary>Click here for Solution</summary>\n",
    "\n",
    "```python\n",
    "z=np.ones( (1, 1, 1, latent_dim))\n",
    "for n in range(5):\n",
    "\n",
    "    z[0, 0, 0, 0:20*n]=-0.5*n\n",
    "\n",
    "    Xhat=full_generator(z,training=False)\n",
    "\n",
    "    plot_array(Xhat)\n",
    "    \n",
    "\n",
    " ```   \n",
    "\n",
    "</details>\n"
   ]
  },
  {
   "cell_type": "markdown",
   "metadata": {
    "id": "PLO1Jyn2y4l8"
   },
   "source": [
    "We can also hold some of the elements of $\\mathbf{z}$ constant and randomly change others. Here, we set the first 20 elements to one and randomly change the rest. We see that all through the images change, the hair color remains light.\n"
   ]
  },
  {
   "cell_type": "code",
   "execution_count": null,
   "metadata": {
    "id": "8wKQJZFcy4l8"
   },
   "outputs": [],
   "source": [
    "for n in range(10):\n",
    "    z=np.random.normal(0, 1, (1, 1, 1, latent_dim))\n",
    "\n",
    "    z[0,0,0,0:35]=1\n",
    "\n",
    "    Xhat=full_generator(z,training=False)\n",
    "\n",
    "    plot_array(Xhat)"
   ]
  },
  {
   "cell_type": "markdown",
   "metadata": {
    "id": "eQeJJrTYy4l8"
   },
   "source": [
    "### Exercise 3\n",
    "\n",
    "Repeat the procedure above, but set the elements of $\\mathbf{z}$ from index 0 to 35 to -1\n"
   ]
  },
  {
   "cell_type": "code",
   "execution_count": null,
   "metadata": {
    "id": "OwO7MqMLy4l8"
   },
   "outputs": [],
   "source": []
  },
  {
   "cell_type": "markdown",
   "metadata": {
    "id": "TMXwLmeey4l8"
   },
   "source": [
    "<details>\n",
    "    <summary>Click here for Solution</summary>\n",
    "\n",
    "```python\n",
    "\n",
    "for n in range(10):\n",
    "    z=np.random.normal(0, 1, (1, 1, 1, latent_dim))\n",
    "\n",
    "    z[0,0,0,0:35]=-1\n",
    "\n",
    "    Xhat=full_generator(z,training=False)\n",
    "\n",
    "    plot_array(Xhat)\n",
    "    \n",
    "\n",
    " ```   \n",
    "\n",
    "</details>\n"
   ]
  },
  {
   "cell_type": "markdown",
   "metadata": {
    "id": "sZ1UueJoy4l9"
   },
   "source": [
    "__Thank you for completing this lab!__\n",
    "<center><img src=\"https://cf-courses-data.s3.us.cloud-object-storage.appdomain.cloud/IBM-GPXX0XCEEN/images/unknown5.jpeg\" width=\"500px\"></center>\n"
   ]
  },
  {
   "cell_type": "markdown",
   "metadata": {
    "id": "9ei-tt7ly4l9"
   },
   "source": [
    "----\n"
   ]
  },
  {
   "cell_type": "markdown",
   "metadata": {
    "id": "4NoFDSNaTUKw"
   },
   "source": [
    "# **Analisis Anime Character Generation using DCGANs**\n",
    "\n",
    "### **Teknologi yang Digunakan**\n",
    "\n",
    "Proyek ini memanfaatkan **Deep Convolutional Generative Adversarial Networks (DCGANs)**, pengembangan dari **Generative Adversarial Networks (GANs)**, untuk menghasilkan gambar karakter anime secara otomatis. GANs pertama kali diperkenalkan pada tahun 2014 dan telah menjadi salah satu teknik terpopuler dalam generasi data, terutama gambar. DCGAN mengintegrasikan arsitektur **Convolutional Neural Networks (CNNs)**, yang banyak digunakan dalam aplikasi visi komputer, untuk meningkatkan kualitas gambar yang dihasilkan dengan menangkap informasi spasial dan fitur visual secara lebih efektif.\n",
    "\n",
    "### **Library dan Alat yang Digunakan**\n",
    "\n",
    "1. **Keras dan TensorFlow**  \n",
    "   Digunakan sebagai framework utama untuk membangun, melatih, dan mengimplementasikan model DCGAN. Keras menyediakan API yang mudah digunakan untuk eksperimen cepat dengan jaringan neural, sementara TensorFlow mendukung operasi dan eksekusi model yang lebih efisien.\n",
    "\n",
    "2. **Pandas dan NumPy**  \n",
    "   Digunakan untuk pengelolaan data dan operasi matematis dalam proses pelatihan, seperti manipulasi dataset gambar dan penghitungan statistik.\n",
    "\n",
    "3. **Scikit-learn**  \n",
    "   Digunakan untuk pemrosesan dan persiapan data, serta membantu dalam evaluasi model.\n",
    "\n",
    "4. **Seaborn dan Matplotlib**  \n",
    "   Digunakan untuk visualisasi data, baik untuk memahami pola input data maupun untuk memvisualisasikan hasil output model.\n",
    "\n",
    "### **Analisis Teknologi yang Digunakan**\n",
    "\n",
    "- **Penggabungan GAN dan CNN dalam DCGAN**  \n",
    "  Dengan menggabungkan GAN dan CNN, DCGAN dapat mempelajari fitur visual yang lebih mendalam dari dataset gambar. CNN efektif dalam mendeteksi dan mengolah fitur spasial dalam gambar, sehingga membantu DCGAN menghasilkan gambar yang lebih realistis, seperti gambar karakter anime. Hal ini sangat penting untuk model yang menangani data visual yang kompleks.\n",
    "\n",
    "- **Latent Space dan Generator-Discriminator dalam GAN**  \n",
    "  DCGAN menggunakan dua komponen utama: **Generator** dan **Discriminator**. Generator menghasilkan gambar dari ruang laten, sementara Discriminator bertugas menilai kualitas gambar yang dihasilkan, memastikan apakah gambar tersebut realistis dan mirip dengan data asli. **Latent space** adalah ruang vektor yang berfungsi sebagai input untuk menghasilkan berbagai variasi gambar.\n",
    "\n",
    "- **Kualitas Output dan Efektivitas Algoritma dalam Skala Besar**  \n",
    "  DCGAN menawarkan solusi efektif dalam menghasilkan gambar unik dengan kualitas visual yang mendekati gambar nyata dalam skala besar. Hal ini sangat berguna dalam industri kreatif, seperti pembuatan karakter dalam video game, yang memerlukan karakter unik tanpa proses manual yang memakan waktu.\n",
    "\n",
    "- **Penyesuaian Arsitektur Model**  \n",
    "  Dengan menggunakan Keras dan TensorFlow, pengguna dapat dengan mudah memodifikasi dan menyesuaikan arsitektur DCGAN. Penyesuaian seperti menambah lapisan CNN atau mengubah hyperparameter (seperti learning rate dan batch size) dapat meningkatkan kualitas dan efisiensi pelatihan model.\n",
    "\n",
    "### **Kesimpulan**\n",
    "\n",
    "Teknologi **DCGAN** adalah pilihan yang tepat untuk pembuatan karakter anime dalam jumlah besar dengan kualitas tinggi. Dengan pipeline yang efisien dan kemampuan menghasilkan gambar unik secara otomatis, DCGAN sangat bermanfaat dalam industri kreatif, seperti game atau aplikasi visual lainnya, di mana pembuatan karakter membutuhkan variasi besar namun dalam waktu produksi yang singkat.\n"
   ]
  }
 ],
 "metadata": {
  "colab": {
   "provenance": []
  },
  "kernelspec": {
   "display_name": "Python 3",
   "name": "python3"
  },
  "language_info": {
   "name": "python"
  },
  "widgets": {
   "application/vnd.jupyter.widget-state+json": {
    "019552b1ff4147febbf80522c005e6ae": {
     "model_module": "@jupyter-widgets/controls",
     "model_module_version": "2.0.0",
     "model_name": "HBoxModel",
     "state": {
      "_dom_classes": [],
      "_model_module": "@jupyter-widgets/controls",
      "_model_module_version": "2.0.0",
      "_model_name": "HBoxModel",
      "_view_count": null,
      "_view_module": "@jupyter-widgets/controls",
      "_view_module_version": "2.0.0",
      "_view_name": "HBoxView",
      "box_style": "",
      "children": [
       "IPY_MODEL_cba20372b37447608c4e6893561b1f2b",
       "IPY_MODEL_4ac1520de520419f959f0becc14024c6",
       "IPY_MODEL_1f814df9b01043db870dab8d2a7d1821"
      ],
      "layout": "IPY_MODEL_2dc5b5eb845141c483b06bce054892ab",
      "tabbable": null,
      "tooltip": null
     }
    },
    "1f814df9b01043db870dab8d2a7d1821": {
     "model_module": "@jupyter-widgets/controls",
     "model_module_version": "2.0.0",
     "model_name": "HTMLModel",
     "state": {
      "_dom_classes": [],
      "_model_module": "@jupyter-widgets/controls",
      "_model_module_version": "2.0.0",
      "_model_name": "HTMLModel",
      "_view_count": null,
      "_view_module": "@jupyter-widgets/controls",
      "_view_module_version": "2.0.0",
      "_view_name": "HTMLView",
      "description": "",
      "description_allow_html": false,
      "layout": "IPY_MODEL_918de960e4ba4da591e15afb17194dd8",
      "placeholder": "​",
      "style": "IPY_MODEL_54ca003a8d6e4b0684d36e45ec878da4",
      "tabbable": null,
      "tooltip": null,
      "value": " 14632960/14632960 [00:00&lt;00:00, 25110326.61it/s]"
     }
    },
    "1f90c657ecb645d9b96ee435c64df54a": {
     "model_module": "@jupyter-widgets/base",
     "model_module_version": "2.0.0",
     "model_name": "LayoutModel",
     "state": {
      "_model_module": "@jupyter-widgets/base",
      "_model_module_version": "2.0.0",
      "_model_name": "LayoutModel",
      "_view_count": null,
      "_view_module": "@jupyter-widgets/base",
      "_view_module_version": "2.0.0",
      "_view_name": "LayoutView",
      "align_content": null,
      "align_items": null,
      "align_self": null,
      "border_bottom": null,
      "border_left": null,
      "border_right": null,
      "border_top": null,
      "bottom": null,
      "display": null,
      "flex": null,
      "flex_flow": null,
      "grid_area": null,
      "grid_auto_columns": null,
      "grid_auto_flow": null,
      "grid_auto_rows": null,
      "grid_column": null,
      "grid_gap": null,
      "grid_row": null,
      "grid_template_areas": null,
      "grid_template_columns": null,
      "grid_template_rows": null,
      "height": null,
      "justify_content": null,
      "justify_items": null,
      "left": null,
      "margin": null,
      "max_height": null,
      "max_width": null,
      "min_height": null,
      "min_width": null,
      "object_fit": null,
      "object_position": null,
      "order": null,
      "overflow": null,
      "padding": null,
      "right": null,
      "top": null,
      "visibility": null,
      "width": null
     }
    },
    "1f921af5195049d3bb2eec88ba55052c": {
     "model_module": "@jupyter-widgets/controls",
     "model_module_version": "2.0.0",
     "model_name": "HTMLStyleModel",
     "state": {
      "_model_module": "@jupyter-widgets/controls",
      "_model_module_version": "2.0.0",
      "_model_name": "HTMLStyleModel",
      "_view_count": null,
      "_view_module": "@jupyter-widgets/base",
      "_view_module_version": "2.0.0",
      "_view_name": "StyleView",
      "background": null,
      "description_width": "",
      "font_size": null,
      "text_color": null
     }
    },
    "21502a138e16465c8f58cef1c2f0390f": {
     "model_module": "@jupyter-widgets/base",
     "model_module_version": "2.0.0",
     "model_name": "LayoutModel",
     "state": {
      "_model_module": "@jupyter-widgets/base",
      "_model_module_version": "2.0.0",
      "_model_name": "LayoutModel",
      "_view_count": null,
      "_view_module": "@jupyter-widgets/base",
      "_view_module_version": "2.0.0",
      "_view_name": "LayoutView",
      "align_content": null,
      "align_items": null,
      "align_self": null,
      "border_bottom": null,
      "border_left": null,
      "border_right": null,
      "border_top": null,
      "bottom": null,
      "display": null,
      "flex": null,
      "flex_flow": null,
      "grid_area": null,
      "grid_auto_columns": null,
      "grid_auto_flow": null,
      "grid_auto_rows": null,
      "grid_column": null,
      "grid_gap": null,
      "grid_row": null,
      "grid_template_areas": null,
      "grid_template_columns": null,
      "grid_template_rows": null,
      "height": null,
      "justify_content": null,
      "justify_items": null,
      "left": null,
      "margin": null,
      "max_height": null,
      "max_width": null,
      "min_height": null,
      "min_width": null,
      "object_fit": null,
      "object_position": null,
      "order": null,
      "overflow": null,
      "padding": null,
      "right": null,
      "top": null,
      "visibility": null,
      "width": null
     }
    },
    "2dc5b5eb845141c483b06bce054892ab": {
     "model_module": "@jupyter-widgets/base",
     "model_module_version": "2.0.0",
     "model_name": "LayoutModel",
     "state": {
      "_model_module": "@jupyter-widgets/base",
      "_model_module_version": "2.0.0",
      "_model_name": "LayoutModel",
      "_view_count": null,
      "_view_module": "@jupyter-widgets/base",
      "_view_module_version": "2.0.0",
      "_view_name": "LayoutView",
      "align_content": null,
      "align_items": null,
      "align_self": null,
      "border_bottom": null,
      "border_left": null,
      "border_right": null,
      "border_top": null,
      "bottom": null,
      "display": null,
      "flex": null,
      "flex_flow": null,
      "grid_area": null,
      "grid_auto_columns": null,
      "grid_auto_flow": null,
      "grid_auto_rows": null,
      "grid_column": null,
      "grid_gap": null,
      "grid_row": null,
      "grid_template_areas": null,
      "grid_template_columns": null,
      "grid_template_rows": null,
      "height": null,
      "justify_content": null,
      "justify_items": null,
      "left": null,
      "margin": null,
      "max_height": null,
      "max_width": null,
      "min_height": null,
      "min_width": null,
      "object_fit": null,
      "object_position": null,
      "order": null,
      "overflow": null,
      "padding": null,
      "right": null,
      "top": null,
      "visibility": null,
      "width": null
     }
    },
    "38507b76dd7440dd8fcdde482ac8c7d9": {
     "model_module": "@jupyter-widgets/controls",
     "model_module_version": "2.0.0",
     "model_name": "HTMLStyleModel",
     "state": {
      "_model_module": "@jupyter-widgets/controls",
      "_model_module_version": "2.0.0",
      "_model_name": "HTMLStyleModel",
      "_view_count": null,
      "_view_module": "@jupyter-widgets/base",
      "_view_module_version": "2.0.0",
      "_view_name": "StyleView",
      "background": null,
      "description_width": "",
      "font_size": null,
      "text_color": null
     }
    },
    "3a7902c70ac4435b8aea2f665e1dcf5b": {
     "model_module": "@jupyter-widgets/controls",
     "model_module_version": "2.0.0",
     "model_name": "FloatProgressModel",
     "state": {
      "_dom_classes": [],
      "_model_module": "@jupyter-widgets/controls",
      "_model_module_version": "2.0.0",
      "_model_name": "FloatProgressModel",
      "_view_count": null,
      "_view_module": "@jupyter-widgets/controls",
      "_view_module_version": "2.0.0",
      "_view_name": "ProgressView",
      "bar_style": "success",
      "description": "",
      "description_allow_html": false,
      "layout": "IPY_MODEL_c60f325ea02845f2b8220f0977979828",
      "max": 7,
      "min": 0,
      "orientation": "horizontal",
      "style": "IPY_MODEL_3be062a483ef43eb95c4da19d61eca0e",
      "tabbable": null,
      "tooltip": null,
      "value": 7
     }
    },
    "3be062a483ef43eb95c4da19d61eca0e": {
     "model_module": "@jupyter-widgets/controls",
     "model_module_version": "2.0.0",
     "model_name": "ProgressStyleModel",
     "state": {
      "_model_module": "@jupyter-widgets/controls",
      "_model_module_version": "2.0.0",
      "_model_name": "ProgressStyleModel",
      "_view_count": null,
      "_view_module": "@jupyter-widgets/base",
      "_view_module_version": "2.0.0",
      "_view_name": "StyleView",
      "bar_color": null,
      "description_width": ""
     }
    },
    "40e0100a78584f5b9175fa6328707a7a": {
     "model_module": "@jupyter-widgets/controls",
     "model_module_version": "2.0.0",
     "model_name": "HTMLModel",
     "state": {
      "_dom_classes": [],
      "_model_module": "@jupyter-widgets/controls",
      "_model_module_version": "2.0.0",
      "_model_name": "HTMLModel",
      "_view_count": null,
      "_view_module": "@jupyter-widgets/controls",
      "_view_module_version": "2.0.0",
      "_view_name": "HTMLView",
      "description": "",
      "description_allow_html": false,
      "layout": "IPY_MODEL_52f4c1f0153c4ae68e6c7e02b58452ee",
      "placeholder": "​",
      "style": "IPY_MODEL_e3b5103fdee6494091504d5fc6ed3b46",
      "tabbable": null,
      "tooltip": null,
      "value": "Downloading cartoon_20000.zip: 100%"
     }
    },
    "4ac1520de520419f959f0becc14024c6": {
     "model_module": "@jupyter-widgets/controls",
     "model_module_version": "2.0.0",
     "model_name": "FloatProgressModel",
     "state": {
      "_dom_classes": [],
      "_model_module": "@jupyter-widgets/controls",
      "_model_module_version": "2.0.0",
      "_model_name": "FloatProgressModel",
      "_view_count": null,
      "_view_module": "@jupyter-widgets/controls",
      "_view_module_version": "2.0.0",
      "_view_name": "ProgressView",
      "bar_style": "success",
      "description": "",
      "description_allow_html": false,
      "layout": "IPY_MODEL_21502a138e16465c8f58cef1c2f0390f",
      "max": 14632960,
      "min": 0,
      "orientation": "horizontal",
      "style": "IPY_MODEL_e3410b333d244de0a677d07c00aeccb5",
      "tabbable": null,
      "tooltip": null,
      "value": 14632960
     }
    },
    "4dd8b551db7749098c19c0d5ba78bea7": {
     "model_module": "@jupyter-widgets/base",
     "model_module_version": "2.0.0",
     "model_name": "LayoutModel",
     "state": {
      "_model_module": "@jupyter-widgets/base",
      "_model_module_version": "2.0.0",
      "_model_name": "LayoutModel",
      "_view_count": null,
      "_view_module": "@jupyter-widgets/base",
      "_view_module_version": "2.0.0",
      "_view_name": "LayoutView",
      "align_content": null,
      "align_items": null,
      "align_self": null,
      "border_bottom": null,
      "border_left": null,
      "border_right": null,
      "border_top": null,
      "bottom": null,
      "display": null,
      "flex": null,
      "flex_flow": null,
      "grid_area": null,
      "grid_auto_columns": null,
      "grid_auto_flow": null,
      "grid_auto_rows": null,
      "grid_column": null,
      "grid_gap": null,
      "grid_row": null,
      "grid_template_areas": null,
      "grid_template_columns": null,
      "grid_template_rows": null,
      "height": null,
      "justify_content": null,
      "justify_items": null,
      "left": null,
      "margin": null,
      "max_height": null,
      "max_width": null,
      "min_height": null,
      "min_width": null,
      "object_fit": null,
      "object_position": null,
      "order": null,
      "overflow": null,
      "padding": null,
      "right": null,
      "top": null,
      "visibility": null,
      "width": null
     }
    },
    "52f4c1f0153c4ae68e6c7e02b58452ee": {
     "model_module": "@jupyter-widgets/base",
     "model_module_version": "2.0.0",
     "model_name": "LayoutModel",
     "state": {
      "_model_module": "@jupyter-widgets/base",
      "_model_module_version": "2.0.0",
      "_model_name": "LayoutModel",
      "_view_count": null,
      "_view_module": "@jupyter-widgets/base",
      "_view_module_version": "2.0.0",
      "_view_name": "LayoutView",
      "align_content": null,
      "align_items": null,
      "align_self": null,
      "border_bottom": null,
      "border_left": null,
      "border_right": null,
      "border_top": null,
      "bottom": null,
      "display": null,
      "flex": null,
      "flex_flow": null,
      "grid_area": null,
      "grid_auto_columns": null,
      "grid_auto_flow": null,
      "grid_auto_rows": null,
      "grid_column": null,
      "grid_gap": null,
      "grid_row": null,
      "grid_template_areas": null,
      "grid_template_columns": null,
      "grid_template_rows": null,
      "height": null,
      "justify_content": null,
      "justify_items": null,
      "left": null,
      "margin": null,
      "max_height": null,
      "max_width": null,
      "min_height": null,
      "min_width": null,
      "object_fit": null,
      "object_position": null,
      "order": null,
      "overflow": null,
      "padding": null,
      "right": null,
      "top": null,
      "visibility": null,
      "width": null
     }
    },
    "54ca003a8d6e4b0684d36e45ec878da4": {
     "model_module": "@jupyter-widgets/controls",
     "model_module_version": "2.0.0",
     "model_name": "HTMLStyleModel",
     "state": {
      "_model_module": "@jupyter-widgets/controls",
      "_model_module_version": "2.0.0",
      "_model_name": "HTMLStyleModel",
      "_view_count": null,
      "_view_module": "@jupyter-widgets/base",
      "_view_module_version": "2.0.0",
      "_view_name": "StyleView",
      "background": null,
      "description_width": "",
      "font_size": null,
      "text_color": null
     }
    },
    "669fd6a54c5c4f63be85d366df35cc10": {
     "model_module": "@jupyter-widgets/controls",
     "model_module_version": "2.0.0",
     "model_name": "HTMLStyleModel",
     "state": {
      "_model_module": "@jupyter-widgets/controls",
      "_model_module_version": "2.0.0",
      "_model_name": "HTMLStyleModel",
      "_view_count": null,
      "_view_module": "@jupyter-widgets/base",
      "_view_module_version": "2.0.0",
      "_view_name": "StyleView",
      "background": null,
      "description_width": "",
      "font_size": null,
      "text_color": null
     }
    },
    "6aa294e41db7449abfc704bcc2d7a522": {
     "model_module": "@jupyter-widgets/controls",
     "model_module_version": "2.0.0",
     "model_name": "HTMLModel",
     "state": {
      "_dom_classes": [],
      "_model_module": "@jupyter-widgets/controls",
      "_model_module_version": "2.0.0",
      "_model_name": "HTMLModel",
      "_view_count": null,
      "_view_module": "@jupyter-widgets/controls",
      "_view_module_version": "2.0.0",
      "_view_name": "HTMLView",
      "description": "",
      "description_allow_html": false,
      "layout": "IPY_MODEL_b504bd3cb83d477789b5bf4613bdae39",
      "placeholder": "​",
      "style": "IPY_MODEL_669fd6a54c5c4f63be85d366df35cc10",
      "tabbable": null,
      "tooltip": null,
      "value": "Extracting generator.tar: 100%"
     }
    },
    "73ddcd6fe91743f184c3c6c456ced288": {
     "model_module": "@jupyter-widgets/base",
     "model_module_version": "2.0.0",
     "model_name": "LayoutModel",
     "state": {
      "_model_module": "@jupyter-widgets/base",
      "_model_module_version": "2.0.0",
      "_model_name": "LayoutModel",
      "_view_count": null,
      "_view_module": "@jupyter-widgets/base",
      "_view_module_version": "2.0.0",
      "_view_name": "LayoutView",
      "align_content": null,
      "align_items": null,
      "align_self": null,
      "border_bottom": null,
      "border_left": null,
      "border_right": null,
      "border_top": null,
      "bottom": null,
      "display": null,
      "flex": null,
      "flex_flow": null,
      "grid_area": null,
      "grid_auto_columns": null,
      "grid_auto_flow": null,
      "grid_auto_rows": null,
      "grid_column": null,
      "grid_gap": null,
      "grid_row": null,
      "grid_template_areas": null,
      "grid_template_columns": null,
      "grid_template_rows": null,
      "height": null,
      "justify_content": null,
      "justify_items": null,
      "left": null,
      "margin": null,
      "max_height": null,
      "max_width": null,
      "min_height": null,
      "min_width": null,
      "object_fit": null,
      "object_position": null,
      "order": null,
      "overflow": null,
      "padding": null,
      "right": null,
      "top": null,
      "visibility": null,
      "width": null
     }
    },
    "7bb33777b56040f58c298d5288f6bc68": {
     "model_module": "@jupyter-widgets/base",
     "model_module_version": "2.0.0",
     "model_name": "LayoutModel",
     "state": {
      "_model_module": "@jupyter-widgets/base",
      "_model_module_version": "2.0.0",
      "_model_name": "LayoutModel",
      "_view_count": null,
      "_view_module": "@jupyter-widgets/base",
      "_view_module_version": "2.0.0",
      "_view_name": "LayoutView",
      "align_content": null,
      "align_items": null,
      "align_self": null,
      "border_bottom": null,
      "border_left": null,
      "border_right": null,
      "border_top": null,
      "bottom": null,
      "display": null,
      "flex": null,
      "flex_flow": null,
      "grid_area": null,
      "grid_auto_columns": null,
      "grid_auto_flow": null,
      "grid_auto_rows": null,
      "grid_column": null,
      "grid_gap": null,
      "grid_row": null,
      "grid_template_areas": null,
      "grid_template_columns": null,
      "grid_template_rows": null,
      "height": null,
      "justify_content": null,
      "justify_items": null,
      "left": null,
      "margin": null,
      "max_height": null,
      "max_width": null,
      "min_height": null,
      "min_width": null,
      "object_fit": null,
      "object_position": null,
      "order": null,
      "overflow": null,
      "padding": null,
      "right": null,
      "top": null,
      "visibility": null,
      "width": null
     }
    },
    "815c57951e8d40b39ac5e244e7281671": {
     "model_module": "@jupyter-widgets/controls",
     "model_module_version": "2.0.0",
     "model_name": "ProgressStyleModel",
     "state": {
      "_model_module": "@jupyter-widgets/controls",
      "_model_module_version": "2.0.0",
      "_model_name": "ProgressStyleModel",
      "_view_count": null,
      "_view_module": "@jupyter-widgets/base",
      "_view_module_version": "2.0.0",
      "_view_name": "StyleView",
      "bar_color": null,
      "description_width": ""
     }
    },
    "84df39a78fa24c30ad99d3c003be1944": {
     "model_module": "@jupyter-widgets/base",
     "model_module_version": "2.0.0",
     "model_name": "LayoutModel",
     "state": {
      "_model_module": "@jupyter-widgets/base",
      "_model_module_version": "2.0.0",
      "_model_name": "LayoutModel",
      "_view_count": null,
      "_view_module": "@jupyter-widgets/base",
      "_view_module_version": "2.0.0",
      "_view_name": "LayoutView",
      "align_content": null,
      "align_items": null,
      "align_self": null,
      "border_bottom": null,
      "border_left": null,
      "border_right": null,
      "border_top": null,
      "bottom": null,
      "display": null,
      "flex": null,
      "flex_flow": null,
      "grid_area": null,
      "grid_auto_columns": null,
      "grid_auto_flow": null,
      "grid_auto_rows": null,
      "grid_column": null,
      "grid_gap": null,
      "grid_row": null,
      "grid_template_areas": null,
      "grid_template_columns": null,
      "grid_template_rows": null,
      "height": null,
      "justify_content": null,
      "justify_items": null,
      "left": null,
      "margin": null,
      "max_height": null,
      "max_width": null,
      "min_height": null,
      "min_width": null,
      "object_fit": null,
      "object_position": null,
      "order": null,
      "overflow": null,
      "padding": null,
      "right": null,
      "top": null,
      "visibility": null,
      "width": null
     }
    },
    "8f092459098c4016a341459e52578862": {
     "model_module": "@jupyter-widgets/controls",
     "model_module_version": "2.0.0",
     "model_name": "HTMLModel",
     "state": {
      "_dom_classes": [],
      "_model_module": "@jupyter-widgets/controls",
      "_model_module_version": "2.0.0",
      "_model_name": "HTMLModel",
      "_view_count": null,
      "_view_module": "@jupyter-widgets/controls",
      "_view_module_version": "2.0.0",
      "_view_name": "HTMLView",
      "description": "",
      "description_allow_html": false,
      "layout": "IPY_MODEL_73ddcd6fe91743f184c3c6c456ced288",
      "placeholder": "​",
      "style": "IPY_MODEL_38507b76dd7440dd8fcdde482ac8c7d9",
      "tabbable": null,
      "tooltip": null,
      "value": " 131046164/131046164 [00:05&lt;00:00, 22161559.90it/s]"
     }
    },
    "918de960e4ba4da591e15afb17194dd8": {
     "model_module": "@jupyter-widgets/base",
     "model_module_version": "2.0.0",
     "model_name": "LayoutModel",
     "state": {
      "_model_module": "@jupyter-widgets/base",
      "_model_module_version": "2.0.0",
      "_model_name": "LayoutModel",
      "_view_count": null,
      "_view_module": "@jupyter-widgets/base",
      "_view_module_version": "2.0.0",
      "_view_name": "LayoutView",
      "align_content": null,
      "align_items": null,
      "align_self": null,
      "border_bottom": null,
      "border_left": null,
      "border_right": null,
      "border_top": null,
      "bottom": null,
      "display": null,
      "flex": null,
      "flex_flow": null,
      "grid_area": null,
      "grid_auto_columns": null,
      "grid_auto_flow": null,
      "grid_auto_rows": null,
      "grid_column": null,
      "grid_gap": null,
      "grid_row": null,
      "grid_template_areas": null,
      "grid_template_columns": null,
      "grid_template_rows": null,
      "height": null,
      "justify_content": null,
      "justify_items": null,
      "left": null,
      "margin": null,
      "max_height": null,
      "max_width": null,
      "min_height": null,
      "min_width": null,
      "object_fit": null,
      "object_position": null,
      "order": null,
      "overflow": null,
      "padding": null,
      "right": null,
      "top": null,
      "visibility": null,
      "width": null
     }
    },
    "958fec28deda4988a68a0df102f19317": {
     "model_module": "@jupyter-widgets/base",
     "model_module_version": "2.0.0",
     "model_name": "LayoutModel",
     "state": {
      "_model_module": "@jupyter-widgets/base",
      "_model_module_version": "2.0.0",
      "_model_name": "LayoutModel",
      "_view_count": null,
      "_view_module": "@jupyter-widgets/base",
      "_view_module_version": "2.0.0",
      "_view_name": "LayoutView",
      "align_content": null,
      "align_items": null,
      "align_self": null,
      "border_bottom": null,
      "border_left": null,
      "border_right": null,
      "border_top": null,
      "bottom": null,
      "display": null,
      "flex": null,
      "flex_flow": null,
      "grid_area": null,
      "grid_auto_columns": null,
      "grid_auto_flow": null,
      "grid_auto_rows": null,
      "grid_column": null,
      "grid_gap": null,
      "grid_row": null,
      "grid_template_areas": null,
      "grid_template_columns": null,
      "grid_template_rows": null,
      "height": null,
      "justify_content": null,
      "justify_items": null,
      "left": null,
      "margin": null,
      "max_height": null,
      "max_width": null,
      "min_height": null,
      "min_width": null,
      "object_fit": null,
      "object_position": null,
      "order": null,
      "overflow": null,
      "padding": null,
      "right": null,
      "top": null,
      "visibility": null,
      "width": null
     }
    },
    "96358ebae99c4b038c9299880f372eee": {
     "model_module": "@jupyter-widgets/controls",
     "model_module_version": "2.0.0",
     "model_name": "HBoxModel",
     "state": {
      "_dom_classes": [],
      "_model_module": "@jupyter-widgets/controls",
      "_model_module_version": "2.0.0",
      "_model_name": "HBoxModel",
      "_view_count": null,
      "_view_module": "@jupyter-widgets/controls",
      "_view_module_version": "2.0.0",
      "_view_name": "HBoxView",
      "box_style": "",
      "children": [
       "IPY_MODEL_a107921ce77347b8a7fbdecb13e16a2e",
       "IPY_MODEL_d8214e41f6c344f097b6e90a1eff66a7",
       "IPY_MODEL_dd7dbaa622c94f5e8c54b18d5bdc6404"
      ],
      "layout": "IPY_MODEL_e58aae9a12c341a4ab604d37880039ff",
      "tabbable": null,
      "tooltip": null
     }
    },
    "a107921ce77347b8a7fbdecb13e16a2e": {
     "model_module": "@jupyter-widgets/controls",
     "model_module_version": "2.0.0",
     "model_name": "HTMLModel",
     "state": {
      "_dom_classes": [],
      "_model_module": "@jupyter-widgets/controls",
      "_model_module_version": "2.0.0",
      "_model_name": "HTMLModel",
      "_view_count": null,
      "_view_module": "@jupyter-widgets/controls",
      "_view_module_version": "2.0.0",
      "_view_name": "HTMLView",
      "description": "",
      "description_allow_html": false,
      "layout": "IPY_MODEL_4dd8b551db7749098c19c0d5ba78bea7",
      "placeholder": "​",
      "style": "IPY_MODEL_1f921af5195049d3bb2eec88ba55052c",
      "tabbable": null,
      "tooltip": null,
      "value": "Extracting cartoon_20000.zip: 100%"
     }
    },
    "a1420b6a88b94a63b38ed4963975a05e": {
     "model_module": "@jupyter-widgets/base",
     "model_module_version": "2.0.0",
     "model_name": "LayoutModel",
     "state": {
      "_model_module": "@jupyter-widgets/base",
      "_model_module_version": "2.0.0",
      "_model_name": "LayoutModel",
      "_view_count": null,
      "_view_module": "@jupyter-widgets/base",
      "_view_module_version": "2.0.0",
      "_view_name": "LayoutView",
      "align_content": null,
      "align_items": null,
      "align_self": null,
      "border_bottom": null,
      "border_left": null,
      "border_right": null,
      "border_top": null,
      "bottom": null,
      "display": null,
      "flex": null,
      "flex_flow": null,
      "grid_area": null,
      "grid_auto_columns": null,
      "grid_auto_flow": null,
      "grid_auto_rows": null,
      "grid_column": null,
      "grid_gap": null,
      "grid_row": null,
      "grid_template_areas": null,
      "grid_template_columns": null,
      "grid_template_rows": null,
      "height": null,
      "justify_content": null,
      "justify_items": null,
      "left": null,
      "margin": null,
      "max_height": null,
      "max_width": null,
      "min_height": null,
      "min_width": null,
      "object_fit": null,
      "object_position": null,
      "order": null,
      "overflow": null,
      "padding": null,
      "right": null,
      "top": null,
      "visibility": null,
      "width": null
     }
    },
    "a34fe3416c8c4eef9a2367297881578c": {
     "model_module": "@jupyter-widgets/base",
     "model_module_version": "2.0.0",
     "model_name": "LayoutModel",
     "state": {
      "_model_module": "@jupyter-widgets/base",
      "_model_module_version": "2.0.0",
      "_model_name": "LayoutModel",
      "_view_count": null,
      "_view_module": "@jupyter-widgets/base",
      "_view_module_version": "2.0.0",
      "_view_name": "LayoutView",
      "align_content": null,
      "align_items": null,
      "align_self": null,
      "border_bottom": null,
      "border_left": null,
      "border_right": null,
      "border_top": null,
      "bottom": null,
      "display": null,
      "flex": null,
      "flex_flow": null,
      "grid_area": null,
      "grid_auto_columns": null,
      "grid_auto_flow": null,
      "grid_auto_rows": null,
      "grid_column": null,
      "grid_gap": null,
      "grid_row": null,
      "grid_template_areas": null,
      "grid_template_columns": null,
      "grid_template_rows": null,
      "height": null,
      "justify_content": null,
      "justify_items": null,
      "left": null,
      "margin": null,
      "max_height": null,
      "max_width": null,
      "min_height": null,
      "min_width": null,
      "object_fit": null,
      "object_position": null,
      "order": null,
      "overflow": null,
      "padding": null,
      "right": null,
      "top": null,
      "visibility": null,
      "width": null
     }
    },
    "ab670c1d39764735aab853fca0e631a2": {
     "model_module": "@jupyter-widgets/base",
     "model_module_version": "2.0.0",
     "model_name": "LayoutModel",
     "state": {
      "_model_module": "@jupyter-widgets/base",
      "_model_module_version": "2.0.0",
      "_model_name": "LayoutModel",
      "_view_count": null,
      "_view_module": "@jupyter-widgets/base",
      "_view_module_version": "2.0.0",
      "_view_name": "LayoutView",
      "align_content": null,
      "align_items": null,
      "align_self": null,
      "border_bottom": null,
      "border_left": null,
      "border_right": null,
      "border_top": null,
      "bottom": null,
      "display": null,
      "flex": null,
      "flex_flow": null,
      "grid_area": null,
      "grid_auto_columns": null,
      "grid_auto_flow": null,
      "grid_auto_rows": null,
      "grid_column": null,
      "grid_gap": null,
      "grid_row": null,
      "grid_template_areas": null,
      "grid_template_columns": null,
      "grid_template_rows": null,
      "height": null,
      "justify_content": null,
      "justify_items": null,
      "left": null,
      "margin": null,
      "max_height": null,
      "max_width": null,
      "min_height": null,
      "min_width": null,
      "object_fit": null,
      "object_position": null,
      "order": null,
      "overflow": null,
      "padding": null,
      "right": null,
      "top": null,
      "visibility": null,
      "width": null
     }
    },
    "ac918a7664884152b034e6cd4906423f": {
     "model_module": "@jupyter-widgets/controls",
     "model_module_version": "2.0.0",
     "model_name": "HTMLStyleModel",
     "state": {
      "_model_module": "@jupyter-widgets/controls",
      "_model_module_version": "2.0.0",
      "_model_name": "HTMLStyleModel",
      "_view_count": null,
      "_view_module": "@jupyter-widgets/base",
      "_view_module_version": "2.0.0",
      "_view_name": "StyleView",
      "background": null,
      "description_width": "",
      "font_size": null,
      "text_color": null
     }
    },
    "b47b643d69dd46a7b16e0e05a002ad39": {
     "model_module": "@jupyter-widgets/controls",
     "model_module_version": "2.0.0",
     "model_name": "HTMLStyleModel",
     "state": {
      "_model_module": "@jupyter-widgets/controls",
      "_model_module_version": "2.0.0",
      "_model_name": "HTMLStyleModel",
      "_view_count": null,
      "_view_module": "@jupyter-widgets/base",
      "_view_module_version": "2.0.0",
      "_view_name": "StyleView",
      "background": null,
      "description_width": "",
      "font_size": null,
      "text_color": null
     }
    },
    "b504bd3cb83d477789b5bf4613bdae39": {
     "model_module": "@jupyter-widgets/base",
     "model_module_version": "2.0.0",
     "model_name": "LayoutModel",
     "state": {
      "_model_module": "@jupyter-widgets/base",
      "_model_module_version": "2.0.0",
      "_model_name": "LayoutModel",
      "_view_count": null,
      "_view_module": "@jupyter-widgets/base",
      "_view_module_version": "2.0.0",
      "_view_name": "LayoutView",
      "align_content": null,
      "align_items": null,
      "align_self": null,
      "border_bottom": null,
      "border_left": null,
      "border_right": null,
      "border_top": null,
      "bottom": null,
      "display": null,
      "flex": null,
      "flex_flow": null,
      "grid_area": null,
      "grid_auto_columns": null,
      "grid_auto_flow": null,
      "grid_auto_rows": null,
      "grid_column": null,
      "grid_gap": null,
      "grid_row": null,
      "grid_template_areas": null,
      "grid_template_columns": null,
      "grid_template_rows": null,
      "height": null,
      "justify_content": null,
      "justify_items": null,
      "left": null,
      "margin": null,
      "max_height": null,
      "max_width": null,
      "min_height": null,
      "min_width": null,
      "object_fit": null,
      "object_position": null,
      "order": null,
      "overflow": null,
      "padding": null,
      "right": null,
      "top": null,
      "visibility": null,
      "width": null
     }
    },
    "bdffe8a5c62a4c2089800c8538e2ff6e": {
     "model_module": "@jupyter-widgets/controls",
     "model_module_version": "2.0.0",
     "model_name": "HBoxModel",
     "state": {
      "_dom_classes": [],
      "_model_module": "@jupyter-widgets/controls",
      "_model_module_version": "2.0.0",
      "_model_name": "HBoxModel",
      "_view_count": null,
      "_view_module": "@jupyter-widgets/controls",
      "_view_module_version": "2.0.0",
      "_view_name": "HBoxView",
      "box_style": "",
      "children": [
       "IPY_MODEL_6aa294e41db7449abfc704bcc2d7a522",
       "IPY_MODEL_3a7902c70ac4435b8aea2f665e1dcf5b",
       "IPY_MODEL_f111b64dacb74dceae6e7af6be4c4cee"
      ],
      "layout": "IPY_MODEL_7bb33777b56040f58c298d5288f6bc68",
      "tabbable": null,
      "tooltip": null
     }
    },
    "c092e4a0885347138596ae408218ab92": {
     "model_module": "@jupyter-widgets/controls",
     "model_module_version": "2.0.0",
     "model_name": "HBoxModel",
     "state": {
      "_dom_classes": [],
      "_model_module": "@jupyter-widgets/controls",
      "_model_module_version": "2.0.0",
      "_model_name": "HBoxModel",
      "_view_count": null,
      "_view_module": "@jupyter-widgets/controls",
      "_view_module_version": "2.0.0",
      "_view_name": "HBoxView",
      "box_style": "",
      "children": [
       "IPY_MODEL_40e0100a78584f5b9175fa6328707a7a",
       "IPY_MODEL_f6d5e52f5c964876a10bc795bf39a60b",
       "IPY_MODEL_8f092459098c4016a341459e52578862"
      ],
      "layout": "IPY_MODEL_1f90c657ecb645d9b96ee435c64df54a",
      "tabbable": null,
      "tooltip": null
     }
    },
    "c4ce2b03532e4552b66f2bc718361cc9": {
     "model_module": "@jupyter-widgets/controls",
     "model_module_version": "2.0.0",
     "model_name": "HTMLStyleModel",
     "state": {
      "_model_module": "@jupyter-widgets/controls",
      "_model_module_version": "2.0.0",
      "_model_name": "HTMLStyleModel",
      "_view_count": null,
      "_view_module": "@jupyter-widgets/base",
      "_view_module_version": "2.0.0",
      "_view_name": "StyleView",
      "background": null,
      "description_width": "",
      "font_size": null,
      "text_color": null
     }
    },
    "c60f325ea02845f2b8220f0977979828": {
     "model_module": "@jupyter-widgets/base",
     "model_module_version": "2.0.0",
     "model_name": "LayoutModel",
     "state": {
      "_model_module": "@jupyter-widgets/base",
      "_model_module_version": "2.0.0",
      "_model_name": "LayoutModel",
      "_view_count": null,
      "_view_module": "@jupyter-widgets/base",
      "_view_module_version": "2.0.0",
      "_view_name": "LayoutView",
      "align_content": null,
      "align_items": null,
      "align_self": null,
      "border_bottom": null,
      "border_left": null,
      "border_right": null,
      "border_top": null,
      "bottom": null,
      "display": null,
      "flex": null,
      "flex_flow": null,
      "grid_area": null,
      "grid_auto_columns": null,
      "grid_auto_flow": null,
      "grid_auto_rows": null,
      "grid_column": null,
      "grid_gap": null,
      "grid_row": null,
      "grid_template_areas": null,
      "grid_template_columns": null,
      "grid_template_rows": null,
      "height": null,
      "justify_content": null,
      "justify_items": null,
      "left": null,
      "margin": null,
      "max_height": null,
      "max_width": null,
      "min_height": null,
      "min_width": null,
      "object_fit": null,
      "object_position": null,
      "order": null,
      "overflow": null,
      "padding": null,
      "right": null,
      "top": null,
      "visibility": null,
      "width": null
     }
    },
    "cba20372b37447608c4e6893561b1f2b": {
     "model_module": "@jupyter-widgets/controls",
     "model_module_version": "2.0.0",
     "model_name": "HTMLModel",
     "state": {
      "_dom_classes": [],
      "_model_module": "@jupyter-widgets/controls",
      "_model_module_version": "2.0.0",
      "_model_name": "HTMLModel",
      "_view_count": null,
      "_view_module": "@jupyter-widgets/controls",
      "_view_module_version": "2.0.0",
      "_view_name": "HTMLView",
      "description": "",
      "description_allow_html": false,
      "layout": "IPY_MODEL_84df39a78fa24c30ad99d3c003be1944",
      "placeholder": "​",
      "style": "IPY_MODEL_b47b643d69dd46a7b16e0e05a002ad39",
      "tabbable": null,
      "tooltip": null,
      "value": "Downloading generator.tar: 100%"
     }
    },
    "d8214e41f6c344f097b6e90a1eff66a7": {
     "model_module": "@jupyter-widgets/controls",
     "model_module_version": "2.0.0",
     "model_name": "FloatProgressModel",
     "state": {
      "_dom_classes": [],
      "_model_module": "@jupyter-widgets/controls",
      "_model_module_version": "2.0.0",
      "_model_name": "FloatProgressModel",
      "_view_count": null,
      "_view_module": "@jupyter-widgets/controls",
      "_view_module_version": "2.0.0",
      "_view_name": "ProgressView",
      "bar_style": "success",
      "description": "",
      "description_allow_html": false,
      "layout": "IPY_MODEL_a1420b6a88b94a63b38ed4963975a05e",
      "max": 20001,
      "min": 0,
      "orientation": "horizontal",
      "style": "IPY_MODEL_815c57951e8d40b39ac5e244e7281671",
      "tabbable": null,
      "tooltip": null,
      "value": 20001
     }
    },
    "dd7dbaa622c94f5e8c54b18d5bdc6404": {
     "model_module": "@jupyter-widgets/controls",
     "model_module_version": "2.0.0",
     "model_name": "HTMLModel",
     "state": {
      "_dom_classes": [],
      "_model_module": "@jupyter-widgets/controls",
      "_model_module_version": "2.0.0",
      "_model_name": "HTMLModel",
      "_view_count": null,
      "_view_module": "@jupyter-widgets/controls",
      "_view_module_version": "2.0.0",
      "_view_name": "HTMLView",
      "description": "",
      "description_allow_html": false,
      "layout": "IPY_MODEL_958fec28deda4988a68a0df102f19317",
      "placeholder": "​",
      "style": "IPY_MODEL_ac918a7664884152b034e6cd4906423f",
      "tabbable": null,
      "tooltip": null,
      "value": " 20001/20001 [00:05&lt;00:00, 4281.18it/s]"
     }
    },
    "e3410b333d244de0a677d07c00aeccb5": {
     "model_module": "@jupyter-widgets/controls",
     "model_module_version": "2.0.0",
     "model_name": "ProgressStyleModel",
     "state": {
      "_model_module": "@jupyter-widgets/controls",
      "_model_module_version": "2.0.0",
      "_model_name": "ProgressStyleModel",
      "_view_count": null,
      "_view_module": "@jupyter-widgets/base",
      "_view_module_version": "2.0.0",
      "_view_name": "StyleView",
      "bar_color": null,
      "description_width": ""
     }
    },
    "e3b5103fdee6494091504d5fc6ed3b46": {
     "model_module": "@jupyter-widgets/controls",
     "model_module_version": "2.0.0",
     "model_name": "HTMLStyleModel",
     "state": {
      "_model_module": "@jupyter-widgets/controls",
      "_model_module_version": "2.0.0",
      "_model_name": "HTMLStyleModel",
      "_view_count": null,
      "_view_module": "@jupyter-widgets/base",
      "_view_module_version": "2.0.0",
      "_view_name": "StyleView",
      "background": null,
      "description_width": "",
      "font_size": null,
      "text_color": null
     }
    },
    "e58aae9a12c341a4ab604d37880039ff": {
     "model_module": "@jupyter-widgets/base",
     "model_module_version": "2.0.0",
     "model_name": "LayoutModel",
     "state": {
      "_model_module": "@jupyter-widgets/base",
      "_model_module_version": "2.0.0",
      "_model_name": "LayoutModel",
      "_view_count": null,
      "_view_module": "@jupyter-widgets/base",
      "_view_module_version": "2.0.0",
      "_view_name": "LayoutView",
      "align_content": null,
      "align_items": null,
      "align_self": null,
      "border_bottom": null,
      "border_left": null,
      "border_right": null,
      "border_top": null,
      "bottom": null,
      "display": null,
      "flex": null,
      "flex_flow": null,
      "grid_area": null,
      "grid_auto_columns": null,
      "grid_auto_flow": null,
      "grid_auto_rows": null,
      "grid_column": null,
      "grid_gap": null,
      "grid_row": null,
      "grid_template_areas": null,
      "grid_template_columns": null,
      "grid_template_rows": null,
      "height": null,
      "justify_content": null,
      "justify_items": null,
      "left": null,
      "margin": null,
      "max_height": null,
      "max_width": null,
      "min_height": null,
      "min_width": null,
      "object_fit": null,
      "object_position": null,
      "order": null,
      "overflow": null,
      "padding": null,
      "right": null,
      "top": null,
      "visibility": null,
      "width": null
     }
    },
    "ef3b4a38f0eb457593147f8e50095eb2": {
     "model_module": "@jupyter-widgets/controls",
     "model_module_version": "2.0.0",
     "model_name": "ProgressStyleModel",
     "state": {
      "_model_module": "@jupyter-widgets/controls",
      "_model_module_version": "2.0.0",
      "_model_name": "ProgressStyleModel",
      "_view_count": null,
      "_view_module": "@jupyter-widgets/base",
      "_view_module_version": "2.0.0",
      "_view_name": "StyleView",
      "bar_color": null,
      "description_width": ""
     }
    },
    "f111b64dacb74dceae6e7af6be4c4cee": {
     "model_module": "@jupyter-widgets/controls",
     "model_module_version": "2.0.0",
     "model_name": "HTMLModel",
     "state": {
      "_dom_classes": [],
      "_model_module": "@jupyter-widgets/controls",
      "_model_module_version": "2.0.0",
      "_model_name": "HTMLModel",
      "_view_count": null,
      "_view_module": "@jupyter-widgets/controls",
      "_view_module_version": "2.0.0",
      "_view_name": "HTMLView",
      "description": "",
      "description_allow_html": false,
      "layout": "IPY_MODEL_ab670c1d39764735aab853fca0e631a2",
      "placeholder": "​",
      "style": "IPY_MODEL_c4ce2b03532e4552b66f2bc718361cc9",
      "tabbable": null,
      "tooltip": null,
      "value": " 7/7 [00:00&lt;00:00, 13.14it/s]"
     }
    },
    "f6d5e52f5c964876a10bc795bf39a60b": {
     "model_module": "@jupyter-widgets/controls",
     "model_module_version": "2.0.0",
     "model_name": "FloatProgressModel",
     "state": {
      "_dom_classes": [],
      "_model_module": "@jupyter-widgets/controls",
      "_model_module_version": "2.0.0",
      "_model_name": "FloatProgressModel",
      "_view_count": null,
      "_view_module": "@jupyter-widgets/controls",
      "_view_module_version": "2.0.0",
      "_view_name": "ProgressView",
      "bar_style": "success",
      "description": "",
      "description_allow_html": false,
      "layout": "IPY_MODEL_a34fe3416c8c4eef9a2367297881578c",
      "max": 131046164,
      "min": 0,
      "orientation": "horizontal",
      "style": "IPY_MODEL_ef3b4a38f0eb457593147f8e50095eb2",
      "tabbable": null,
      "tooltip": null,
      "value": 131046164
     }
    }
   }
  }
 },
 "nbformat": 4,
 "nbformat_minor": 0
}
